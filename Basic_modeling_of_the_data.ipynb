{
 "cells": [
  {
   "cell_type": "code",
   "execution_count": 1,
   "metadata": {
    "id": "4MPF5p0ifgNF"
   },
   "outputs": [
    {
     "ename": "ModuleNotFoundError",
     "evalue": "No module named 'seaborn'",
     "output_type": "error",
     "traceback": [
      "\u001b[1;31m---------------------------------------------------------------------------\u001b[0m",
      "\u001b[1;31mModuleNotFoundError\u001b[0m                       Traceback (most recent call last)",
      "Cell \u001b[1;32mIn[1], line 1\u001b[0m\n\u001b[1;32m----> 1\u001b[0m \u001b[38;5;28;01mimport\u001b[39;00m \u001b[38;5;21;01mpandas\u001b[39;00m \u001b[38;5;28;01mas\u001b[39;00m \u001b[38;5;21;01mpd\u001b[39;00m\u001b[38;5;241m,\u001b[39m \u001b[38;5;21;01mmatplotlib\u001b[39;00m\u001b[38;5;21;01m.\u001b[39;00m\u001b[38;5;21;01mpyplot\u001b[39;00m \u001b[38;5;28;01mas\u001b[39;00m \u001b[38;5;21;01mplt\u001b[39;00m\u001b[38;5;241m,\u001b[39m \u001b[38;5;21;01mnumpy\u001b[39;00m \u001b[38;5;28;01mas\u001b[39;00m \u001b[38;5;21;01mnp\u001b[39;00m\u001b[38;5;241m,\u001b[39m \u001b[38;5;21;01msklearn\u001b[39;00m\u001b[38;5;241m,\u001b[39m \u001b[38;5;21;01mseaborn\u001b[39;00m \u001b[38;5;28;01mas\u001b[39;00m \u001b[38;5;21;01msns\u001b[39;00m\n",
      "\u001b[1;31mModuleNotFoundError\u001b[0m: No module named 'seaborn'"
     ]
    }
   ],
   "source": [
    "import pandas as pd, matplotlib.pyplot as plt, numpy as np, sklearn, seaborn as sns"
   ]
  },
  {
   "cell_type": "code",
   "execution_count": null,
   "metadata": {
    "colab": {
     "base_uri": "https://localhost:8080/",
     "height": 236
    },
    "id": "jjPxU_y3f1Qm",
    "outputId": "81752501-f867-48e1-cf7c-ee59e9ca89c3"
   },
   "outputs": [],
   "source": [
    "df= pd.read_csv('data/citylearn_challenge_2023_phase_3_3citylearn_challenge_2023_phase_3_3/Building_1.csv', parse_dates=True).set_index('timestamp')\n",
    "df.head()"
   ]
  },
  {
   "cell_type": "markdown",
   "metadata": {
    "id": "yl7QImGUi8Cp"
   },
   "source": [
    "# Scaling the data"
   ]
  },
  {
   "cell_type": "code",
   "execution_count": null,
   "metadata": {
    "id": "gvyjemfKiJ7X"
   },
   "outputs": [],
   "source": [
    "from sklearn import preprocessing"
   ]
  },
  {
   "cell_type": "code",
   "execution_count": null,
   "metadata": {
    "id": "3j4j0GTygNLu"
   },
   "outputs": [],
   "source": [
    "scaler= preprocessing.MinMaxScaler()\n",
    "# only scaling the numerical values not day/month\n",
    "scaled_data=scaler.fit_transform(df.drop(columns=['day','month']))"
   ]
  },
  {
   "cell_type": "code",
   "execution_count": null,
   "metadata": {
    "colab": {
     "base_uri": "https://localhost:8080/"
    },
    "id": "RsJ-DO_Kh7Nq",
    "outputId": "de30d73d-389b-4e2d-cd32-fc5b657141dc"
   },
   "outputs": [],
   "source": [
    "type(scaled_data)"
   ]
  },
  {
   "cell_type": "markdown",
   "metadata": {
    "id": "hI-XHAeIjDLl"
   },
   "source": [
    "adding the day/month again, and constructing a df"
   ]
  },
  {
   "cell_type": "code",
   "execution_count": null,
   "metadata": {
    "colab": {
     "base_uri": "https://localhost:8080/",
     "height": 236
    },
    "id": "-mCDIo2wiRpJ",
    "outputId": "62c95dda-ce5c-4f53-a9b7-660967c31012"
   },
   "outputs": [],
   "source": [
    "scaled_df= pd.concat( [ pd.DataFrame(scaled_data, index=df.index , columns=df.columns[:-2]) , df.iloc[:,-2:] ] \n",
    "                     , axis=1 )\n",
    "scaled_df.head()"
   ]
  },
  {
   "cell_type": "markdown",
   "metadata": {
    "id": "NTV83ywljVHV"
   },
   "source": [
    "# Creating training and testing and validation"
   ]
  },
  {
   "cell_type": "code",
   "execution_count": null,
   "metadata": {
    "id": "B-ltEnxTjaWZ"
   },
   "outputs": [],
   "source": [
    "from sklearn.model_selection import train_test_split"
   ]
  },
  {
   "cell_type": "code",
   "execution_count": null,
   "metadata": {
    "id": "FANZ1bV2iT7F"
   },
   "outputs": [],
   "source": [
    "x_train,x_hidden,y_train,y_hidden= train_test_split( scaled_df.drop(columns='meter_reading') ,\n",
    "                                                    scaled_df.meter_reading,\n",
    "                                                    test_size=0.2,\n",
    "                                                    shuffle=False )"
   ]
  },
  {
   "cell_type": "code",
   "execution_count": null,
   "metadata": {
    "id": "a5TNmTebjzVY"
   },
   "outputs": [],
   "source": [
    "assert len(y_train) ==len(x_train)"
   ]
  },
  {
   "cell_type": "markdown",
   "metadata": {
    "id": "zEfvdgnDj3vM"
   },
   "source": [
    "we are good to go now"
   ]
  },
  {
   "cell_type": "code",
   "execution_count": null,
   "metadata": {
    "id": "EGkfmDfoj2_t"
   },
   "outputs": [],
   "source": [
    "x_test,x_val,y_test,y_val= train_test_split(x_hidden,y_hidden,\n",
    "                                             test_size=0.5,\n",
    "                                             shuffle=False)"
   ]
  },
  {
   "cell_type": "markdown",
   "metadata": {
    "id": "a-BsjlPkksad"
   },
   "source": [
    "## we have now:\n",
    "\n",
    "1.   x_train & y_train\n",
    "2.   x_test & y_test\n",
    "3.   x_val & y_val\n",
    "\n"
   ]
  },
  {
   "cell_type": "markdown",
   "metadata": {
    "id": "tqJ_va0Ok8Ww"
   },
   "source": [
    "# Creating simple models"
   ]
  },
  {
   "cell_type": "code",
   "execution_count": null,
   "metadata": {
    "id": "2FEhaocJkOMj"
   },
   "outputs": [],
   "source": [
    "from sklearn.linear_model import Lasso\n",
    "from sklearn.metrics import mean_squared_error"
   ]
  },
  {
   "cell_type": "code",
   "execution_count": null,
   "metadata": {
    "colab": {
     "base_uri": "https://localhost:8080/"
    },
    "id": "K-zmLGeVlMcu",
    "outputId": "947d0d84-4822-45e3-f182-cf7f5c8a1644"
   },
   "outputs": [],
   "source": [
    "lasso_model= Lasso( alpha=0.3 )\n",
    "lasso_model.fit(x_train , y_train )\n",
    "lasso_pred= lasso_model.predict( x_test )\n",
    "\n",
    "print( mean_squared_error( y_test , lasso_pred) )"
   ]
  },
  {
   "cell_type": "markdown",
   "metadata": {
    "id": "P9Hv2aVam7Zc"
   },
   "source": [
    "## Clearly we can see that linear models only use the mean as the predicted value"
   ]
  },
  {
   "cell_type": "code",
   "execution_count": null,
   "metadata": {
    "colab": {
     "base_uri": "https://localhost:8080/",
     "height": 974
    },
    "id": "f7vA1XJxmJ19",
    "outputId": "a2e0e123-252e-4091-a085-059feeb85155"
   },
   "outputs": [],
   "source": [
    "_, axs=plt.subplots(2,1, figsize=(15,15))\n",
    "sns.lineplot( range(len(x_test)) , lasso_pred, ax=axs[0] )\n",
    "sns.lineplot( range(len(x_test)) , y_test, ax=axs[1] )"
   ]
  },
  {
   "cell_type": "markdown",
   "metadata": {
    "id": "ORQMfrHPnCs7"
   },
   "source": [
    "# let's try more soffisticated models"
   ]
  },
  {
   "cell_type": "code",
   "execution_count": null,
   "metadata": {
    "colab": {
     "base_uri": "https://localhost:8080/"
    },
    "id": "-8GJlGVim_Mp",
    "outputId": "f488b122-7cb1-4595-a006-7f7ec6c73961"
   },
   "outputs": [],
   "source": [
    "from sklearn.ensemble import RandomForestRegressor\n",
    "\n",
    "forrest_model= RandomForestRegressor()\n",
    "forrest_model.fit(x_train , y_train )\n",
    "forrest_pred= forrest_model.predict( x_test )\n",
    "\n",
    "print( mean_squared_error( y_test , forrest_pred) )"
   ]
  },
  {
   "cell_type": "markdown",
   "metadata": {
    "id": "rJglfeOOnR0O"
   },
   "source": [
    "## Let's try to plot it\n"
   ]
  },
  {
   "cell_type": "code",
   "execution_count": null,
   "metadata": {
    "colab": {
     "base_uri": "https://localhost:8080/",
     "height": 974
    },
    "id": "W2iWcMgnnTQk",
    "outputId": "6ff70198-aafa-4f64-9e91-6a7c7e730747"
   },
   "outputs": [],
   "source": [
    "_, axs=plt.subplots(2,1, figsize=(15,15))\n",
    "sns.lineplot( range(len(x_test)) , forrest_pred, ax=axs[0] )\n",
    "sns.lineplot( range(len(x_test)) , y_test, ax=axs[1] )"
   ]
  },
  {
   "cell_type": "markdown",
   "metadata": {
    "id": "Fvn979jTn46M"
   },
   "source": [
    "we can see that the output is not linear, but still not effecient enough"
   ]
  },
  {
   "cell_type": "markdown",
   "metadata": {
    "id": "KS5QSjSZpv8L"
   },
   "source": [
    "# last try with powerful model\n"
   ]
  },
  {
   "cell_type": "code",
   "execution_count": null,
   "metadata": {
    "id": "LWgCZYDen_MG"
   },
   "outputs": [],
   "source": [
    "from sklearn.ensemble import GradientBoostingRegressor"
   ]
  },
  {
   "cell_type": "code",
   "execution_count": null,
   "metadata": {
    "colab": {
     "base_uri": "https://localhost:8080/",
     "height": 992
    },
    "id": "y5sGwZsUp1Mp",
    "outputId": "65cbd5a7-1b06-470b-b5f1-4d1a710db34f"
   },
   "outputs": [],
   "source": [
    "gradient_model= GradientBoostingRegressor( n_estimators=1000)\n",
    "\n",
    "gradient_model.fit(x_train , y_train )\n",
    "gradient_pred= gradient_model.predict( x_test )\n",
    "\n",
    "print( mean_squared_error( y_test , gradient_pred) )\n",
    "\n",
    "_, axs=plt.subplots(2,1, figsize=(15,15))\n",
    "sns.lineplot( range(len(x_test)) , gradient_pred, ax=axs[0] )\n",
    "sns.lineplot( range(len(x_test)) , y_test, ax=axs[1] )"
   ]
  },
  {
   "cell_type": "markdown",
   "metadata": {
    "id": "hEX_fmU_qcao"
   },
   "source": [
    "# and we can see now that we need sequential models"
   ]
  },
  {
   "cell_type": "markdown",
   "metadata": {
    "id": "NaHBHmRIt4Mi"
   },
   "source": [
    "## let's save the data so that we work with a standard version"
   ]
  },
  {
   "cell_type": "code",
   "execution_count": null,
   "metadata": {
    "id": "TtXxflWjt3uD"
   },
   "outputs": [],
   "source": [
    "list_of_df= [x_train , y_train,\n",
    "            x_test , y_test,\n",
    "            x_val , y_val]\n",
    "\n",
    "list_of_df_names= ['x_train' , 'y_train',\n",
    "                    'x_test' , 'y_test',\n",
    "                    'x_val' , 'y_val']\n",
    "\n",
    "for i, frame in enumerate(list_of_df):\n",
    "    frame.to_csv( f'content/{list_of_df_names[i]}.csv')"
   ]
  }
 ],
 "metadata": {
  "colab": {
   "collapsed_sections": [],
   "name": "Basic modeling of the data",
   "provenance": []
  },
  "kernelspec": {
   "display_name": "ML_flow",
   "language": "python",
   "name": "ml_flow"
  },
  "language_info": {
   "codemirror_mode": {
    "name": "ipython",
    "version": 3
   },
   "file_extension": ".py",
   "mimetype": "text/x-python",
   "name": "python",
   "nbconvert_exporter": "python",
   "pygments_lexer": "ipython3",
   "version": "3.9.18"
  }
 },
 "nbformat": 4,
 "nbformat_minor": 1
}
