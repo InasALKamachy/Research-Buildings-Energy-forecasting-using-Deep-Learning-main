{
 "cells": [
  {
   "cell_type": "code",
   "execution_count": 1,
   "metadata": {
    "collapsed": false,
    "pycharm": {
     "name": "#%%\n"
    }
   },
   "outputs": [
    {
     "name": "stderr",
     "output_type": "stream",
     "text": [
      "C:\\Users\\User1\\AppData\\Local\\Temp\\ipykernel_28764\\2015408096.py:1: DeprecationWarning: \n",
      "Pyarrow will become a required dependency of pandas in the next major release of pandas (pandas 3.0),\n",
      "(to allow more performant data types, such as the Arrow string type, and better interoperability with other libraries)\n",
      "but was not found to be installed on your system.\n",
      "If this would cause problems for you,\n",
      "please provide us feedback at https://github.com/pandas-dev/pandas/issues/54466\n",
      "        \n",
      "  import pandas as pd, numpy as np, matplotlib.pyplot as plt, seaborn as sns\n"
     ]
    }
   ],
   "source": [
    "import pandas as pd, numpy as np, matplotlib.pyplot as plt, seaborn as sns"
   ]
  },
  {
   "cell_type": "markdown",
   "metadata": {},
   "source": [
    "# <a id='ref2'>1. Exploration and Cleaning Building dataset</a>"
   ]
  },
  {
   "cell_type": "code",
   "execution_count": 11,
   "metadata": {},
   "outputs": [
    {
     "data": {
      "text/html": [
       "<div>\n",
       "<style scoped>\n",
       "    .dataframe tbody tr th:only-of-type {\n",
       "        vertical-align: middle;\n",
       "    }\n",
       "\n",
       "    .dataframe tbody tr th {\n",
       "        vertical-align: top;\n",
       "    }\n",
       "\n",
       "    .dataframe thead th {\n",
       "        text-align: right;\n",
       "    }\n",
       "</style>\n",
       "<table border=\"1\" class=\"dataframe\">\n",
       "  <thead>\n",
       "    <tr style=\"text-align: right;\">\n",
       "      <th></th>\n",
       "      <th>Month</th>\n",
       "      <th>Hour_x</th>\n",
       "      <th>Day Type_x</th>\n",
       "      <th>Daylight Savings Status_x</th>\n",
       "      <th>Indoor Temperature (C)_x</th>\n",
       "      <th>Average Unmet Cooling Setpoint Difference (C)_x</th>\n",
       "      <th>Indoor Relative Humidity (%)_x</th>\n",
       "      <th>Equipment Electric Power (kWh)_x</th>\n",
       "      <th>DHW Heating (kWh)_x</th>\n",
       "      <th>Cooling Load (kWh)_x</th>\n",
       "      <th>...</th>\n",
       "      <th>Average Unmet Cooling Setpoint Difference (C)_y</th>\n",
       "      <th>Indoor Relative Humidity (%)_y</th>\n",
       "      <th>Equipment Electric Power (kWh)_y</th>\n",
       "      <th>DHW Heating (kWh)_y</th>\n",
       "      <th>Cooling Load (kWh)_y</th>\n",
       "      <th>Heating Load (kWh)_y</th>\n",
       "      <th>Solar Generation (W/kW)_y</th>\n",
       "      <th>Occupant Count (people)_y</th>\n",
       "      <th>Temperature Set Point (C)_y</th>\n",
       "      <th>HVAC Mode (Off/Cooling/Heating)_y</th>\n",
       "    </tr>\n",
       "  </thead>\n",
       "  <tbody>\n",
       "    <tr>\n",
       "      <th>0</th>\n",
       "      <td>6</td>\n",
       "      <td>1</td>\n",
       "      <td>2</td>\n",
       "      <td>0</td>\n",
       "      <td>22.428127</td>\n",
       "      <td>-0.794095</td>\n",
       "      <td>78.008001</td>\n",
       "      <td>0.356269</td>\n",
       "      <td>0.05573</td>\n",
       "      <td>0.0</td>\n",
       "      <td>...</td>\n",
       "      <td>-1.451542</td>\n",
       "      <td>84.717600</td>\n",
       "      <td>0.188484</td>\n",
       "      <td>0.0</td>\n",
       "      <td>0.0</td>\n",
       "      <td>0.0</td>\n",
       "      <td>0.0</td>\n",
       "      <td>1.0</td>\n",
       "      <td>24.444444</td>\n",
       "      <td>1</td>\n",
       "    </tr>\n",
       "    <tr>\n",
       "      <th>1</th>\n",
       "      <td>6</td>\n",
       "      <td>1</td>\n",
       "      <td>2</td>\n",
       "      <td>0</td>\n",
       "      <td>22.428127</td>\n",
       "      <td>-0.794095</td>\n",
       "      <td>78.008001</td>\n",
       "      <td>0.356269</td>\n",
       "      <td>0.05573</td>\n",
       "      <td>0.0</td>\n",
       "      <td>...</td>\n",
       "      <td>-1.652775</td>\n",
       "      <td>85.912688</td>\n",
       "      <td>0.187083</td>\n",
       "      <td>0.0</td>\n",
       "      <td>0.0</td>\n",
       "      <td>0.0</td>\n",
       "      <td>0.0</td>\n",
       "      <td>1.0</td>\n",
       "      <td>24.444444</td>\n",
       "      <td>1</td>\n",
       "    </tr>\n",
       "    <tr>\n",
       "      <th>2</th>\n",
       "      <td>6</td>\n",
       "      <td>1</td>\n",
       "      <td>2</td>\n",
       "      <td>0</td>\n",
       "      <td>22.428127</td>\n",
       "      <td>-0.794095</td>\n",
       "      <td>78.008001</td>\n",
       "      <td>0.356269</td>\n",
       "      <td>0.05573</td>\n",
       "      <td>0.0</td>\n",
       "      <td>...</td>\n",
       "      <td>-1.884430</td>\n",
       "      <td>87.272378</td>\n",
       "      <td>0.185795</td>\n",
       "      <td>0.0</td>\n",
       "      <td>0.0</td>\n",
       "      <td>0.0</td>\n",
       "      <td>0.0</td>\n",
       "      <td>1.0</td>\n",
       "      <td>24.444444</td>\n",
       "      <td>1</td>\n",
       "    </tr>\n",
       "    <tr>\n",
       "      <th>3</th>\n",
       "      <td>6</td>\n",
       "      <td>1</td>\n",
       "      <td>2</td>\n",
       "      <td>0</td>\n",
       "      <td>22.428127</td>\n",
       "      <td>-0.794095</td>\n",
       "      <td>78.008001</td>\n",
       "      <td>0.356269</td>\n",
       "      <td>0.05573</td>\n",
       "      <td>0.0</td>\n",
       "      <td>...</td>\n",
       "      <td>-2.083897</td>\n",
       "      <td>88.448251</td>\n",
       "      <td>0.189119</td>\n",
       "      <td>0.0</td>\n",
       "      <td>0.0</td>\n",
       "      <td>0.0</td>\n",
       "      <td>0.0</td>\n",
       "      <td>1.0</td>\n",
       "      <td>24.444444</td>\n",
       "      <td>1</td>\n",
       "    </tr>\n",
       "    <tr>\n",
       "      <th>4</th>\n",
       "      <td>6</td>\n",
       "      <td>1</td>\n",
       "      <td>2</td>\n",
       "      <td>0</td>\n",
       "      <td>22.428127</td>\n",
       "      <td>-0.794095</td>\n",
       "      <td>78.008001</td>\n",
       "      <td>0.356269</td>\n",
       "      <td>0.05573</td>\n",
       "      <td>0.0</td>\n",
       "      <td>...</td>\n",
       "      <td>-2.253925</td>\n",
       "      <td>89.460865</td>\n",
       "      <td>0.206313</td>\n",
       "      <td>0.0</td>\n",
       "      <td>0.0</td>\n",
       "      <td>0.0</td>\n",
       "      <td>0.0</td>\n",
       "      <td>1.0</td>\n",
       "      <td>24.444444</td>\n",
       "      <td>1</td>\n",
       "    </tr>\n",
       "  </tbody>\n",
       "</table>\n",
       "<p>5 rows × 29 columns</p>\n",
       "</div>"
      ],
      "text/plain": [
       "   Month  Hour_x  Day Type_x  Daylight Savings Status_x  \\\n",
       "0      6       1           2                          0   \n",
       "1      6       1           2                          0   \n",
       "2      6       1           2                          0   \n",
       "3      6       1           2                          0   \n",
       "4      6       1           2                          0   \n",
       "\n",
       "   Indoor Temperature (C)_x  Average Unmet Cooling Setpoint Difference (C)_x  \\\n",
       "0                 22.428127                                        -0.794095   \n",
       "1                 22.428127                                        -0.794095   \n",
       "2                 22.428127                                        -0.794095   \n",
       "3                 22.428127                                        -0.794095   \n",
       "4                 22.428127                                        -0.794095   \n",
       "\n",
       "   Indoor Relative Humidity (%)_x  Equipment Electric Power (kWh)_x  \\\n",
       "0                       78.008001                          0.356269   \n",
       "1                       78.008001                          0.356269   \n",
       "2                       78.008001                          0.356269   \n",
       "3                       78.008001                          0.356269   \n",
       "4                       78.008001                          0.356269   \n",
       "\n",
       "   DHW Heating (kWh)_x  Cooling Load (kWh)_x  ...  \\\n",
       "0              0.05573                   0.0  ...   \n",
       "1              0.05573                   0.0  ...   \n",
       "2              0.05573                   0.0  ...   \n",
       "3              0.05573                   0.0  ...   \n",
       "4              0.05573                   0.0  ...   \n",
       "\n",
       "   Average Unmet Cooling Setpoint Difference (C)_y  \\\n",
       "0                                        -1.451542   \n",
       "1                                        -1.652775   \n",
       "2                                        -1.884430   \n",
       "3                                        -2.083897   \n",
       "4                                        -2.253925   \n",
       "\n",
       "   Indoor Relative Humidity (%)_y  Equipment Electric Power (kWh)_y  \\\n",
       "0                       84.717600                          0.188484   \n",
       "1                       85.912688                          0.187083   \n",
       "2                       87.272378                          0.185795   \n",
       "3                       88.448251                          0.189119   \n",
       "4                       89.460865                          0.206313   \n",
       "\n",
       "   DHW Heating (kWh)_y  Cooling Load (kWh)_y  Heating Load (kWh)_y  \\\n",
       "0                  0.0                   0.0                   0.0   \n",
       "1                  0.0                   0.0                   0.0   \n",
       "2                  0.0                   0.0                   0.0   \n",
       "3                  0.0                   0.0                   0.0   \n",
       "4                  0.0                   0.0                   0.0   \n",
       "\n",
       "   Solar Generation (W/kW)_y  Occupant Count (people)_y  \\\n",
       "0                        0.0                        1.0   \n",
       "1                        0.0                        1.0   \n",
       "2                        0.0                        1.0   \n",
       "3                        0.0                        1.0   \n",
       "4                        0.0                        1.0   \n",
       "\n",
       "   Temperature Set Point (C)_y  HVAC Mode (Off/Cooling/Heating)_y  \n",
       "0                    24.444444                                  1  \n",
       "1                    24.444444                                  1  \n",
       "2                    24.444444                                  1  \n",
       "3                    24.444444                                  1  \n",
       "4                    24.444444                                  1  \n",
       "\n",
       "[5 rows x 29 columns]"
      ]
     },
     "execution_count": 11,
     "metadata": {},
     "output_type": "execute_result"
    }
   ],
   "source": [
    "import pandas as pd\n",
    "\n",
    "# List of building numbers\n",
    "Building_1 = pd.read_csv('data/citylearn_challenge_2023_phase_3_3/Building_1.csv')\n",
    "Building_2 = pd.read_csv('data/citylearn_challenge_2023_phase_3_3/Building_2.csv')\n",
    "Building_3 = pd.read_csv('data/citylearn_challenge_2023_phase_3_3/Building_3.csv')\n",
    "Building_4 = pd.read_csv('data/citylearn_challenge_2023_phase_3_3/Building_4.csv')\n",
    "Building_5 = pd.read_csv('data/citylearn_challenge_2023_phase_3_3/Building_5.csv')\n",
    "Building_6 = pd.read_csv('data/citylearn_challenge_2023_phase_3_3/Building_6.csv')\n",
    "\n",
    "\n",
    "# Merge dataframes\n",
    "merged_df = pd.merge(Building_1, Building_2, on='Month')\n",
    "#merged_df = pd.merge(merged_df, Building_3, on='Month')\n",
    "#merged_df = pd.merge(merged_df, Building_4, on='Month')\n",
    "#merged_df = pd.merge(merged_df, Building_5, on='Month')\n",
    "#merged_df = pd.merge(merged_df, Building_6, on='Month')\n",
    "\n",
    "merged_df.head()\n",
    "\n"
   ]
  },
  {
   "cell_type": "code",
   "execution_count": 13,
   "metadata": {},
   "outputs": [
    {
     "data": {
      "text/html": [
       "<div>\n",
       "<style scoped>\n",
       "    .dataframe tbody tr th:only-of-type {\n",
       "        vertical-align: middle;\n",
       "    }\n",
       "\n",
       "    .dataframe tbody tr th {\n",
       "        vertical-align: top;\n",
       "    }\n",
       "\n",
       "    .dataframe thead th {\n",
       "        text-align: right;\n",
       "    }\n",
       "</style>\n",
       "<table border=\"1\" class=\"dataframe\">\n",
       "  <thead>\n",
       "    <tr style=\"text-align: right;\">\n",
       "      <th></th>\n",
       "      <th>Month</th>\n",
       "      <th>Hour_x</th>\n",
       "      <th>Day Type_x</th>\n",
       "      <th>Indoor Temperature (C)_x</th>\n",
       "      <th>Average Unmet Cooling Setpoint Difference (C)_x</th>\n",
       "      <th>Indoor Relative Humidity (%)_x</th>\n",
       "      <th>Equipment Electric Power (kWh)_x</th>\n",
       "      <th>Temperature Set Point (C)_x</th>\n",
       "      <th>HVAC Mode (Off/Cooling/Heating)_x</th>\n",
       "      <th>Hour_y</th>\n",
       "      <th>Day Type_y</th>\n",
       "      <th>Indoor Temperature (C)_y</th>\n",
       "      <th>Average Unmet Cooling Setpoint Difference (C)_y</th>\n",
       "      <th>Indoor Relative Humidity (%)_y</th>\n",
       "      <th>Equipment Electric Power (kWh)_y</th>\n",
       "      <th>Temperature Set Point (C)_y</th>\n",
       "      <th>HVAC Mode (Off/Cooling/Heating)_y</th>\n",
       "    </tr>\n",
       "  </thead>\n",
       "  <tbody>\n",
       "    <tr>\n",
       "      <th>0</th>\n",
       "      <td>6</td>\n",
       "      <td>1</td>\n",
       "      <td>2</td>\n",
       "      <td>22.428127</td>\n",
       "      <td>-0.794095</td>\n",
       "      <td>78.008001</td>\n",
       "      <td>0.356269</td>\n",
       "      <td>23.222222</td>\n",
       "      <td>1</td>\n",
       "      <td>1</td>\n",
       "      <td>2</td>\n",
       "      <td>22.992902</td>\n",
       "      <td>-1.451542</td>\n",
       "      <td>84.717600</td>\n",
       "      <td>0.188484</td>\n",
       "      <td>24.444444</td>\n",
       "      <td>1</td>\n",
       "    </tr>\n",
       "    <tr>\n",
       "      <th>1</th>\n",
       "      <td>6</td>\n",
       "      <td>1</td>\n",
       "      <td>2</td>\n",
       "      <td>22.428127</td>\n",
       "      <td>-0.794095</td>\n",
       "      <td>78.008001</td>\n",
       "      <td>0.356269</td>\n",
       "      <td>23.222222</td>\n",
       "      <td>1</td>\n",
       "      <td>2</td>\n",
       "      <td>2</td>\n",
       "      <td>22.791670</td>\n",
       "      <td>-1.652775</td>\n",
       "      <td>85.912688</td>\n",
       "      <td>0.187083</td>\n",
       "      <td>24.444444</td>\n",
       "      <td>1</td>\n",
       "    </tr>\n",
       "    <tr>\n",
       "      <th>2</th>\n",
       "      <td>6</td>\n",
       "      <td>1</td>\n",
       "      <td>2</td>\n",
       "      <td>22.428127</td>\n",
       "      <td>-0.794095</td>\n",
       "      <td>78.008001</td>\n",
       "      <td>0.356269</td>\n",
       "      <td>23.222222</td>\n",
       "      <td>1</td>\n",
       "      <td>3</td>\n",
       "      <td>2</td>\n",
       "      <td>22.560015</td>\n",
       "      <td>-1.884430</td>\n",
       "      <td>87.272378</td>\n",
       "      <td>0.185795</td>\n",
       "      <td>24.444444</td>\n",
       "      <td>1</td>\n",
       "    </tr>\n",
       "    <tr>\n",
       "      <th>3</th>\n",
       "      <td>6</td>\n",
       "      <td>1</td>\n",
       "      <td>2</td>\n",
       "      <td>22.428127</td>\n",
       "      <td>-0.794095</td>\n",
       "      <td>78.008001</td>\n",
       "      <td>0.356269</td>\n",
       "      <td>23.222222</td>\n",
       "      <td>1</td>\n",
       "      <td>4</td>\n",
       "      <td>2</td>\n",
       "      <td>22.360548</td>\n",
       "      <td>-2.083897</td>\n",
       "      <td>88.448251</td>\n",
       "      <td>0.189119</td>\n",
       "      <td>24.444444</td>\n",
       "      <td>1</td>\n",
       "    </tr>\n",
       "    <tr>\n",
       "      <th>4</th>\n",
       "      <td>6</td>\n",
       "      <td>1</td>\n",
       "      <td>2</td>\n",
       "      <td>22.428127</td>\n",
       "      <td>-0.794095</td>\n",
       "      <td>78.008001</td>\n",
       "      <td>0.356269</td>\n",
       "      <td>23.222222</td>\n",
       "      <td>1</td>\n",
       "      <td>5</td>\n",
       "      <td>2</td>\n",
       "      <td>22.190519</td>\n",
       "      <td>-2.253925</td>\n",
       "      <td>89.460865</td>\n",
       "      <td>0.206313</td>\n",
       "      <td>24.444444</td>\n",
       "      <td>1</td>\n",
       "    </tr>\n",
       "  </tbody>\n",
       "</table>\n",
       "</div>"
      ],
      "text/plain": [
       "   Month  Hour_x  Day Type_x  Indoor Temperature (C)_x  \\\n",
       "0      6       1           2                 22.428127   \n",
       "1      6       1           2                 22.428127   \n",
       "2      6       1           2                 22.428127   \n",
       "3      6       1           2                 22.428127   \n",
       "4      6       1           2                 22.428127   \n",
       "\n",
       "   Average Unmet Cooling Setpoint Difference (C)_x  \\\n",
       "0                                        -0.794095   \n",
       "1                                        -0.794095   \n",
       "2                                        -0.794095   \n",
       "3                                        -0.794095   \n",
       "4                                        -0.794095   \n",
       "\n",
       "   Indoor Relative Humidity (%)_x  Equipment Electric Power (kWh)_x  \\\n",
       "0                       78.008001                          0.356269   \n",
       "1                       78.008001                          0.356269   \n",
       "2                       78.008001                          0.356269   \n",
       "3                       78.008001                          0.356269   \n",
       "4                       78.008001                          0.356269   \n",
       "\n",
       "   Temperature Set Point (C)_x  HVAC Mode (Off/Cooling/Heating)_x  Hour_y  \\\n",
       "0                    23.222222                                  1       1   \n",
       "1                    23.222222                                  1       2   \n",
       "2                    23.222222                                  1       3   \n",
       "3                    23.222222                                  1       4   \n",
       "4                    23.222222                                  1       5   \n",
       "\n",
       "   Day Type_y  Indoor Temperature (C)_y  \\\n",
       "0           2                 22.992902   \n",
       "1           2                 22.791670   \n",
       "2           2                 22.560015   \n",
       "3           2                 22.360548   \n",
       "4           2                 22.190519   \n",
       "\n",
       "   Average Unmet Cooling Setpoint Difference (C)_y  \\\n",
       "0                                        -1.451542   \n",
       "1                                        -1.652775   \n",
       "2                                        -1.884430   \n",
       "3                                        -2.083897   \n",
       "4                                        -2.253925   \n",
       "\n",
       "   Indoor Relative Humidity (%)_y  Equipment Electric Power (kWh)_y  \\\n",
       "0                       84.717600                          0.188484   \n",
       "1                       85.912688                          0.187083   \n",
       "2                       87.272378                          0.185795   \n",
       "3                       88.448251                          0.189119   \n",
       "4                       89.460865                          0.206313   \n",
       "\n",
       "   Temperature Set Point (C)_y  HVAC Mode (Off/Cooling/Heating)_y  \n",
       "0                    24.444444                                  1  \n",
       "1                    24.444444                                  1  \n",
       "2                    24.444444                                  1  \n",
       "3                    24.444444                                  1  \n",
       "4                    24.444444                                  1  "
      ]
     },
     "execution_count": 13,
     "metadata": {},
     "output_type": "execute_result"
    }
   ],
   "source": [
    "#We will drop all the columns that are constituted by zeroes\n",
    "\n",
    "train_df = merged_df.loc[:, (merged_df != 0).any(axis=0)].loc[:, (merged_df != 0).all(axis=0)]\n",
    "train_df.head()"
   ]
  },
  {
   "cell_type": "code",
   "execution_count": 14,
   "metadata": {},
   "outputs": [
    {
     "data": {
      "text/html": [
       "<div>\n",
       "<style scoped>\n",
       "    .dataframe tbody tr th:only-of-type {\n",
       "        vertical-align: middle;\n",
       "    }\n",
       "\n",
       "    .dataframe tbody tr th {\n",
       "        vertical-align: top;\n",
       "    }\n",
       "\n",
       "    .dataframe thead th {\n",
       "        text-align: right;\n",
       "    }\n",
       "</style>\n",
       "<table border=\"1\" class=\"dataframe\">\n",
       "  <thead>\n",
       "    <tr style=\"text-align: right;\">\n",
       "      <th></th>\n",
       "      <th>Month</th>\n",
       "      <th>Hour_x</th>\n",
       "      <th>Day Type_x</th>\n",
       "      <th>Indoor Temperature (C)_x</th>\n",
       "      <th>Average Unmet Cooling Setpoint Difference (C)_x</th>\n",
       "      <th>Indoor Relative Humidity (%)_x</th>\n",
       "      <th>Equipment Electric Power (kWh)_x</th>\n",
       "      <th>Temperature Set Point (C)_x</th>\n",
       "      <th>HVAC Mode (Off/Cooling/Heating)_x</th>\n",
       "      <th>Hour_y</th>\n",
       "      <th>Day Type_y</th>\n",
       "      <th>Indoor Temperature (C)_y</th>\n",
       "      <th>Average Unmet Cooling Setpoint Difference (C)_y</th>\n",
       "      <th>Indoor Relative Humidity (%)_y</th>\n",
       "      <th>Equipment Electric Power (kWh)_y</th>\n",
       "      <th>Temperature Set Point (C)_y</th>\n",
       "      <th>HVAC Mode (Off/Cooling/Heating)_y</th>\n",
       "    </tr>\n",
       "  </thead>\n",
       "  <tbody>\n",
       "    <tr>\n",
       "      <th>count</th>\n",
       "      <td>1625472.00</td>\n",
       "      <td>1625472.00</td>\n",
       "      <td>1625472.00</td>\n",
       "      <td>1625472.00</td>\n",
       "      <td>1625472.00</td>\n",
       "      <td>1625472.00</td>\n",
       "      <td>1625472.00</td>\n",
       "      <td>1625472.00</td>\n",
       "      <td>1625472.0</td>\n",
       "      <td>1625472.00</td>\n",
       "      <td>1625472.00</td>\n",
       "      <td>1625472.00</td>\n",
       "      <td>1625472.00</td>\n",
       "      <td>1625472.00</td>\n",
       "      <td>1625472.00</td>\n",
       "      <td>1625472.00</td>\n",
       "      <td>1625472.0</td>\n",
       "    </tr>\n",
       "    <tr>\n",
       "      <th>mean</th>\n",
       "      <td>7.02</td>\n",
       "      <td>12.50</td>\n",
       "      <td>3.98</td>\n",
       "      <td>24.13</td>\n",
       "      <td>-0.02</td>\n",
       "      <td>59.17</td>\n",
       "      <td>0.61</td>\n",
       "      <td>24.15</td>\n",
       "      <td>1.0</td>\n",
       "      <td>12.50</td>\n",
       "      <td>3.98</td>\n",
       "      <td>24.71</td>\n",
       "      <td>-0.09</td>\n",
       "      <td>60.81</td>\n",
       "      <td>0.46</td>\n",
       "      <td>24.81</td>\n",
       "      <td>1.0</td>\n",
       "    </tr>\n",
       "    <tr>\n",
       "      <th>std</th>\n",
       "      <td>0.81</td>\n",
       "      <td>6.92</td>\n",
       "      <td>2.00</td>\n",
       "      <td>1.21</td>\n",
       "      <td>0.17</td>\n",
       "      <td>4.94</td>\n",
       "      <td>0.81</td>\n",
       "      <td>1.22</td>\n",
       "      <td>0.0</td>\n",
       "      <td>6.92</td>\n",
       "      <td>2.00</td>\n",
       "      <td>0.56</td>\n",
       "      <td>0.36</td>\n",
       "      <td>8.17</td>\n",
       "      <td>0.67</td>\n",
       "      <td>0.43</td>\n",
       "      <td>0.0</td>\n",
       "    </tr>\n",
       "    <tr>\n",
       "      <th>min</th>\n",
       "      <td>6.00</td>\n",
       "      <td>1.00</td>\n",
       "      <td>1.00</td>\n",
       "      <td>20.00</td>\n",
       "      <td>-2.54</td>\n",
       "      <td>45.07</td>\n",
       "      <td>0.31</td>\n",
       "      <td>20.00</td>\n",
       "      <td>1.0</td>\n",
       "      <td>1.00</td>\n",
       "      <td>1.00</td>\n",
       "      <td>21.47</td>\n",
       "      <td>-3.11</td>\n",
       "      <td>46.91</td>\n",
       "      <td>0.17</td>\n",
       "      <td>21.67</td>\n",
       "      <td>1.0</td>\n",
       "    </tr>\n",
       "    <tr>\n",
       "      <th>25%</th>\n",
       "      <td>6.00</td>\n",
       "      <td>6.75</td>\n",
       "      <td>2.00</td>\n",
       "      <td>23.33</td>\n",
       "      <td>-0.00</td>\n",
       "      <td>56.11</td>\n",
       "      <td>0.35</td>\n",
       "      <td>23.33</td>\n",
       "      <td>1.0</td>\n",
       "      <td>6.75</td>\n",
       "      <td>2.00</td>\n",
       "      <td>24.66</td>\n",
       "      <td>-0.01</td>\n",
       "      <td>55.26</td>\n",
       "      <td>0.20</td>\n",
       "      <td>25.00</td>\n",
       "      <td>1.0</td>\n",
       "    </tr>\n",
       "    <tr>\n",
       "      <th>50%</th>\n",
       "      <td>7.00</td>\n",
       "      <td>12.50</td>\n",
       "      <td>4.00</td>\n",
       "      <td>24.44</td>\n",
       "      <td>0.00</td>\n",
       "      <td>58.59</td>\n",
       "      <td>0.40</td>\n",
       "      <td>24.44</td>\n",
       "      <td>1.0</td>\n",
       "      <td>12.50</td>\n",
       "      <td>4.00</td>\n",
       "      <td>25.00</td>\n",
       "      <td>-0.00</td>\n",
       "      <td>59.56</td>\n",
       "      <td>0.36</td>\n",
       "      <td>25.00</td>\n",
       "      <td>1.0</td>\n",
       "    </tr>\n",
       "    <tr>\n",
       "      <th>75%</th>\n",
       "      <td>8.00</td>\n",
       "      <td>18.25</td>\n",
       "      <td>6.00</td>\n",
       "      <td>24.44</td>\n",
       "      <td>0.00</td>\n",
       "      <td>61.84</td>\n",
       "      <td>0.52</td>\n",
       "      <td>24.44</td>\n",
       "      <td>1.0</td>\n",
       "      <td>18.25</td>\n",
       "      <td>6.00</td>\n",
       "      <td>25.00</td>\n",
       "      <td>-0.00</td>\n",
       "      <td>64.27</td>\n",
       "      <td>0.54</td>\n",
       "      <td>25.00</td>\n",
       "      <td>1.0</td>\n",
       "    </tr>\n",
       "    <tr>\n",
       "      <th>max</th>\n",
       "      <td>8.00</td>\n",
       "      <td>24.00</td>\n",
       "      <td>7.00</td>\n",
       "      <td>27.22</td>\n",
       "      <td>0.17</td>\n",
       "      <td>80.56</td>\n",
       "      <td>7.46</td>\n",
       "      <td>27.22</td>\n",
       "      <td>1.0</td>\n",
       "      <td>24.00</td>\n",
       "      <td>7.00</td>\n",
       "      <td>26.11</td>\n",
       "      <td>0.16</td>\n",
       "      <td>91.14</td>\n",
       "      <td>8.83</td>\n",
       "      <td>26.11</td>\n",
       "      <td>1.0</td>\n",
       "    </tr>\n",
       "  </tbody>\n",
       "</table>\n",
       "</div>"
      ],
      "text/plain": [
       "            Month      Hour_x  Day Type_x  Indoor Temperature (C)_x  \\\n",
       "count  1625472.00  1625472.00  1625472.00                1625472.00   \n",
       "mean         7.02       12.50        3.98                     24.13   \n",
       "std          0.81        6.92        2.00                      1.21   \n",
       "min          6.00        1.00        1.00                     20.00   \n",
       "25%          6.00        6.75        2.00                     23.33   \n",
       "50%          7.00       12.50        4.00                     24.44   \n",
       "75%          8.00       18.25        6.00                     24.44   \n",
       "max          8.00       24.00        7.00                     27.22   \n",
       "\n",
       "       Average Unmet Cooling Setpoint Difference (C)_x  \\\n",
       "count                                       1625472.00   \n",
       "mean                                             -0.02   \n",
       "std                                               0.17   \n",
       "min                                              -2.54   \n",
       "25%                                              -0.00   \n",
       "50%                                               0.00   \n",
       "75%                                               0.00   \n",
       "max                                               0.17   \n",
       "\n",
       "       Indoor Relative Humidity (%)_x  Equipment Electric Power (kWh)_x  \\\n",
       "count                      1625472.00                        1625472.00   \n",
       "mean                            59.17                              0.61   \n",
       "std                              4.94                              0.81   \n",
       "min                             45.07                              0.31   \n",
       "25%                             56.11                              0.35   \n",
       "50%                             58.59                              0.40   \n",
       "75%                             61.84                              0.52   \n",
       "max                             80.56                              7.46   \n",
       "\n",
       "       Temperature Set Point (C)_x  HVAC Mode (Off/Cooling/Heating)_x  \\\n",
       "count                   1625472.00                          1625472.0   \n",
       "mean                         24.15                                1.0   \n",
       "std                           1.22                                0.0   \n",
       "min                          20.00                                1.0   \n",
       "25%                          23.33                                1.0   \n",
       "50%                          24.44                                1.0   \n",
       "75%                          24.44                                1.0   \n",
       "max                          27.22                                1.0   \n",
       "\n",
       "           Hour_y  Day Type_y  Indoor Temperature (C)_y  \\\n",
       "count  1625472.00  1625472.00                1625472.00   \n",
       "mean        12.50        3.98                     24.71   \n",
       "std          6.92        2.00                      0.56   \n",
       "min          1.00        1.00                     21.47   \n",
       "25%          6.75        2.00                     24.66   \n",
       "50%         12.50        4.00                     25.00   \n",
       "75%         18.25        6.00                     25.00   \n",
       "max         24.00        7.00                     26.11   \n",
       "\n",
       "       Average Unmet Cooling Setpoint Difference (C)_y  \\\n",
       "count                                       1625472.00   \n",
       "mean                                             -0.09   \n",
       "std                                               0.36   \n",
       "min                                              -3.11   \n",
       "25%                                              -0.01   \n",
       "50%                                              -0.00   \n",
       "75%                                              -0.00   \n",
       "max                                               0.16   \n",
       "\n",
       "       Indoor Relative Humidity (%)_y  Equipment Electric Power (kWh)_y  \\\n",
       "count                      1625472.00                        1625472.00   \n",
       "mean                            60.81                              0.46   \n",
       "std                              8.17                              0.67   \n",
       "min                             46.91                              0.17   \n",
       "25%                             55.26                              0.20   \n",
       "50%                             59.56                              0.36   \n",
       "75%                             64.27                              0.54   \n",
       "max                             91.14                              8.83   \n",
       "\n",
       "       Temperature Set Point (C)_y  HVAC Mode (Off/Cooling/Heating)_y  \n",
       "count                   1625472.00                          1625472.0  \n",
       "mean                         24.81                                1.0  \n",
       "std                           0.43                                0.0  \n",
       "min                          21.67                                1.0  \n",
       "25%                          25.00                                1.0  \n",
       "50%                          25.00                                1.0  \n",
       "75%                          25.00                                1.0  \n",
       "max                          26.11                                1.0  "
      ]
     },
     "execution_count": 14,
     "metadata": {},
     "output_type": "execute_result"
    }
   ],
   "source": [
    "train_df.describe().round(2)"
   ]
  },
  {
   "cell_type": "code",
   "execution_count": 15,
   "metadata": {},
   "outputs": [
    {
     "name": "stdout",
     "output_type": "stream",
     "text": [
      "<class 'pandas.core.frame.DataFrame'>\n",
      "RangeIndex: 1625472 entries, 0 to 1625471\n",
      "Data columns (total 17 columns):\n",
      " #   Column                                           Non-Null Count    Dtype  \n",
      "---  ------                                           --------------    -----  \n",
      " 0   Month                                            1625472 non-null  int64  \n",
      " 1   Hour_x                                           1625472 non-null  int64  \n",
      " 2   Day Type_x                                       1625472 non-null  int64  \n",
      " 3   Indoor Temperature (C)_x                         1625472 non-null  float64\n",
      " 4   Average Unmet Cooling Setpoint Difference (C)_x  1625472 non-null  float64\n",
      " 5   Indoor Relative Humidity (%)_x                   1625472 non-null  float64\n",
      " 6   Equipment Electric Power (kWh)_x                 1625472 non-null  float64\n",
      " 7   Temperature Set Point (C)_x                      1625472 non-null  float64\n",
      " 8   HVAC Mode (Off/Cooling/Heating)_x                1625472 non-null  int64  \n",
      " 9   Hour_y                                           1625472 non-null  int64  \n",
      " 10  Day Type_y                                       1625472 non-null  int64  \n",
      " 11  Indoor Temperature (C)_y                         1625472 non-null  float64\n",
      " 12  Average Unmet Cooling Setpoint Difference (C)_y  1625472 non-null  float64\n",
      " 13  Indoor Relative Humidity (%)_y                   1625472 non-null  float64\n",
      " 14  Equipment Electric Power (kWh)_y                 1625472 non-null  float64\n",
      " 15  Temperature Set Point (C)_y                      1625472 non-null  float64\n",
      " 16  HVAC Mode (Off/Cooling/Heating)_y                1625472 non-null  int64  \n",
      "dtypes: float64(10), int64(7)\n",
      "memory usage: 210.8 MB\n"
     ]
    }
   ],
   "source": [
    "train_df.info()"
   ]
  },
  {
   "cell_type": "code",
   "execution_count": 4,
   "metadata": {},
   "outputs": [
    {
     "data": {
      "text/html": [
       "<div>\n",
       "<style scoped>\n",
       "    .dataframe tbody tr th:only-of-type {\n",
       "        vertical-align: middle;\n",
       "    }\n",
       "\n",
       "    .dataframe tbody tr th {\n",
       "        vertical-align: top;\n",
       "    }\n",
       "\n",
       "    .dataframe thead th {\n",
       "        text-align: right;\n",
       "    }\n",
       "</style>\n",
       "<table border=\"1\" class=\"dataframe\">\n",
       "  <thead>\n",
       "    <tr style=\"text-align: right;\">\n",
       "      <th></th>\n",
       "      <th>Month</th>\n",
       "      <th>Hour</th>\n",
       "      <th>Day Type</th>\n",
       "      <th>Daylight Savings Status</th>\n",
       "      <th>Indoor Temperature (C)</th>\n",
       "      <th>Average Unmet Cooling Setpoint Difference (C)</th>\n",
       "      <th>Indoor Relative Humidity (%)</th>\n",
       "      <th>Equipment Electric Power (kWh)</th>\n",
       "      <th>DHW Heating (kWh)</th>\n",
       "      <th>Cooling Load (kWh)</th>\n",
       "      <th>Heating Load (kWh)</th>\n",
       "      <th>Solar Generation (W/kW)</th>\n",
       "      <th>Occupant Count (people)</th>\n",
       "      <th>Temperature Set Point (C)</th>\n",
       "      <th>HVAC Mode (Off/Cooling/Heating)</th>\n",
       "    </tr>\n",
       "  </thead>\n",
       "  <tbody>\n",
       "    <tr>\n",
       "      <th>0</th>\n",
       "      <td>6</td>\n",
       "      <td>1</td>\n",
       "      <td>2</td>\n",
       "      <td>0</td>\n",
       "      <td>22.428127</td>\n",
       "      <td>-0.794095</td>\n",
       "      <td>78.008001</td>\n",
       "      <td>0.356269</td>\n",
       "      <td>0.055730</td>\n",
       "      <td>0.000000</td>\n",
       "      <td>0.0</td>\n",
       "      <td>0.0</td>\n",
       "      <td>3.0</td>\n",
       "      <td>23.222222</td>\n",
       "      <td>1</td>\n",
       "    </tr>\n",
       "    <tr>\n",
       "      <th>1</th>\n",
       "      <td>6</td>\n",
       "      <td>2</td>\n",
       "      <td>2</td>\n",
       "      <td>0</td>\n",
       "      <td>22.223214</td>\n",
       "      <td>0.000992</td>\n",
       "      <td>79.042718</td>\n",
       "      <td>0.344522</td>\n",
       "      <td>0.159217</td>\n",
       "      <td>0.227737</td>\n",
       "      <td>0.0</td>\n",
       "      <td>0.0</td>\n",
       "      <td>3.0</td>\n",
       "      <td>22.222222</td>\n",
       "      <td>1</td>\n",
       "    </tr>\n",
       "    <tr>\n",
       "      <th>2</th>\n",
       "      <td>6</td>\n",
       "      <td>3</td>\n",
       "      <td>2</td>\n",
       "      <td>0</td>\n",
       "      <td>22.222226</td>\n",
       "      <td>0.000004</td>\n",
       "      <td>79.337523</td>\n",
       "      <td>0.338227</td>\n",
       "      <td>0.056899</td>\n",
       "      <td>0.132294</td>\n",
       "      <td>0.0</td>\n",
       "      <td>0.0</td>\n",
       "      <td>3.0</td>\n",
       "      <td>22.222222</td>\n",
       "      <td>1</td>\n",
       "    </tr>\n",
       "    <tr>\n",
       "      <th>3</th>\n",
       "      <td>6</td>\n",
       "      <td>4</td>\n",
       "      <td>2</td>\n",
       "      <td>0</td>\n",
       "      <td>22.222226</td>\n",
       "      <td>0.000004</td>\n",
       "      <td>79.581156</td>\n",
       "      <td>0.334329</td>\n",
       "      <td>0.000000</td>\n",
       "      <td>0.152979</td>\n",
       "      <td>0.0</td>\n",
       "      <td>0.0</td>\n",
       "      <td>3.0</td>\n",
       "      <td>22.222222</td>\n",
       "      <td>1</td>\n",
       "    </tr>\n",
       "    <tr>\n",
       "      <th>4</th>\n",
       "      <td>6</td>\n",
       "      <td>5</td>\n",
       "      <td>2</td>\n",
       "      <td>0</td>\n",
       "      <td>22.222226</td>\n",
       "      <td>0.000003</td>\n",
       "      <td>79.783525</td>\n",
       "      <td>0.348094</td>\n",
       "      <td>0.000000</td>\n",
       "      <td>0.119001</td>\n",
       "      <td>0.0</td>\n",
       "      <td>0.0</td>\n",
       "      <td>3.0</td>\n",
       "      <td>22.222222</td>\n",
       "      <td>1</td>\n",
       "    </tr>\n",
       "  </tbody>\n",
       "</table>\n",
       "</div>"
      ],
      "text/plain": [
       "   Month  Hour  Day Type  Daylight Savings Status  Indoor Temperature (C)  \\\n",
       "0      6     1         2                        0               22.428127   \n",
       "1      6     2         2                        0               22.223214   \n",
       "2      6     3         2                        0               22.222226   \n",
       "3      6     4         2                        0               22.222226   \n",
       "4      6     5         2                        0               22.222226   \n",
       "\n",
       "   Average Unmet Cooling Setpoint Difference (C)  \\\n",
       "0                                      -0.794095   \n",
       "1                                       0.000992   \n",
       "2                                       0.000004   \n",
       "3                                       0.000004   \n",
       "4                                       0.000003   \n",
       "\n",
       "   Indoor Relative Humidity (%)  Equipment Electric Power (kWh)  \\\n",
       "0                     78.008001                        0.356269   \n",
       "1                     79.042718                        0.344522   \n",
       "2                     79.337523                        0.338227   \n",
       "3                     79.581156                        0.334329   \n",
       "4                     79.783525                        0.348094   \n",
       "\n",
       "   DHW Heating (kWh)  Cooling Load (kWh)  Heating Load (kWh)  \\\n",
       "0           0.055730            0.000000                 0.0   \n",
       "1           0.159217            0.227737                 0.0   \n",
       "2           0.056899            0.132294                 0.0   \n",
       "3           0.000000            0.152979                 0.0   \n",
       "4           0.000000            0.119001                 0.0   \n",
       "\n",
       "   Solar Generation (W/kW)  Occupant Count (people)  \\\n",
       "0                      0.0                      3.0   \n",
       "1                      0.0                      3.0   \n",
       "2                      0.0                      3.0   \n",
       "3                      0.0                      3.0   \n",
       "4                      0.0                      3.0   \n",
       "\n",
       "   Temperature Set Point (C)  HVAC Mode (Off/Cooling/Heating)  \n",
       "0                  23.222222                                1  \n",
       "1                  22.222222                                1  \n",
       "2                  22.222222                                1  \n",
       "3                  22.222222                                1  \n",
       "4                  22.222222                                1  "
      ]
     },
     "execution_count": 4,
     "metadata": {},
     "output_type": "execute_result"
    }
   ],
   "source": [
    "\n",
    "weather_train_df = pd.read_csv('data/citylearn_challenge_2023_phase_3_3/weather.csv')\n",
    "price_train_df = pd.read_csv('data/citylearn_challenge_2023_phase_3_3t/pricing.csv')\n",
    "carbon_intensity_train_df = pd.read_csv('data/citylearn_challenge_2023_phase_3_3t/carbon_intensity.csv')\n",
    "# Display the first few rows of the merged DataFrame\n",
    "weather_train_df.head()\n",
    "price_train_df.head()\n",
    "carbon_intensity_train_df.head()"
   ]
  },
  {
   "cell_type": "markdown",
   "metadata": {
    "collapsed": false
   },
   "source": [
    "# Loading the data"
   ]
  },
  {
   "cell_type": "markdown",
   "metadata": {
    "collapsed": false
   },
   "source": [
    "## Merging the data"
   ]
  },
  {
   "cell_type": "code",
   "execution_count": null,
   "metadata": {
    "collapsed": false,
    "pycharm": {
     "name": "#%%\n"
    }
   },
   "outputs": [],
   "source": [
    "train_df = train_df.merge(building_meta_df, on=\"building_id\")\n",
    "train_df = train_df.merge(weather_train_df, on=[\"site_id\", \"timestamp\"])"
   ]
  },
  {
   "cell_type": "code",
   "execution_count": null,
   "metadata": {
    "collapsed": false,
    "pycharm": {
     "name": "#%%\n"
    }
   },
   "outputs": [],
   "source": [
    "train_df.drop(columns=['Unnamed: 0','Unnamed: 0.1'], inplace=True)"
   ]
  },
  {
   "cell_type": "code",
   "execution_count": null,
   "metadata": {
    "collapsed": false,
    "pycharm": {
     "name": "#%%\n"
    }
   },
   "outputs": [],
   "source": [
    "train_df"
   ]
  },
  {
   "cell_type": "markdown",
   "metadata": {
    "collapsed": false
   },
   "source": [
    "## reducing size for memory optim"
   ]
  },
  {
   "cell_type": "code",
   "execution_count": null,
   "metadata": {
    "collapsed": false,
    "pycharm": {
     "name": "#%%\n"
    }
   },
   "outputs": [],
   "source": [
    "d_types = {'building_id': np.int16,\n",
    "          'meter': np.int8,\n",
    "          'site_id': np.int8,\n",
    "           'floor':np.int8,\n",
    "           'area': np.int8 ,\n",
    "          'primary_use': 'category',\n",
    "          'square_feet': np.int32,\n",
    "          'year_built': np.float16,\n",
    "          'floor_count': np.float16,\n",
    "          'air_temperature': np.float32,\n",
    "          'cloud_coverage': np.float16,\n",
    "          'dew_temperature': np.float32,\n",
    "          'precip_depth_1_hr': np.float16,\n",
    "          'sea_level_pressure': np.float32,\n",
    "          'wind_direction': np.float16,\n",
    "          'wind_speed': np.float32}\n",
    "\n",
    "for feature in d_types:\n",
    "    train_df[feature] = train_df[feature].astype(d_types[feature])\n"
   ]
  },
  {
   "cell_type": "markdown",
   "metadata": {
    "collapsed": false
   },
   "source": [
    "## Changing timestamp type  into datetime"
   ]
  },
  {
   "cell_type": "code",
   "execution_count": null,
   "metadata": {
    "collapsed": false,
    "pycharm": {
     "name": "#%%\n"
    }
   },
   "outputs": [],
   "source": [
    "train_df[\"timestamp\"] = pd.to_datetime(train_df[\"timestamp\"])"
   ]
  },
  {
   "cell_type": "markdown",
   "metadata": {
    "collapsed": false
   },
   "source": [
    "## Adding Month and day as new features"
   ]
  },
  {
   "cell_type": "code",
   "execution_count": null,
   "metadata": {
    "collapsed": false,
    "pycharm": {
     "name": "#%%\n"
    }
   },
   "outputs": [],
   "source": [
    "train_df['day'] = train_df['timestamp'].dt.day\n",
    "train_df['month'] = train_df['timestamp'].dt.month\n",
    "train_df['hour'] = train_df['timestamp'].dt.hour"
   ]
  },
  {
   "cell_type": "code",
   "execution_count": null,
   "metadata": {
    "collapsed": false,
    "pycharm": {
     "name": "#%%\n"
    }
   },
   "outputs": [],
   "source": [
    "train_df.head()"
   ]
  },
  {
   "cell_type": "markdown",
   "metadata": {
    "collapsed": false
   },
   "source": [
    "## creating categorical col out of th primary_use col"
   ]
  },
  {
   "cell_type": "code",
   "execution_count": null,
   "metadata": {
    "collapsed": false,
    "pycharm": {
     "name": "#%%\n"
    }
   },
   "outputs": [],
   "source": [
    " # categories are assumed to be the unique values of `values` (sorted, if possible, otherwise in the order in which they appear).\n",
    "train_df['primary_use'] = pd.Categorical(train_df['primary_use'])\n",
    "train_df['primary_use'] = train_df['primary_use'].cat.codes"
   ]
  },
  {
   "cell_type": "code",
   "execution_count": null,
   "metadata": {
    "collapsed": false,
    "pycharm": {
     "name": "#%%\n"
    }
   },
   "outputs": [],
   "source": [
    "train_df.head()"
   ]
  },
  {
   "cell_type": "markdown",
   "metadata": {
    "collapsed": false
   },
   "source": [
    "percent of missing values"
   ]
  },
  {
   "cell_type": "code",
   "execution_count": null,
   "metadata": {
    "collapsed": false,
    "pycharm": {
     "name": "#%%\n"
    }
   },
   "outputs": [],
   "source": [
    "100 * train_df.isnull().sum() / len(train_df)"
   ]
  },
  {
   "cell_type": "markdown",
   "metadata": {
    "collapsed": false
   },
   "source": [
    "## Dropping high missing values col"
   ]
  },
  {
   "cell_type": "code",
   "execution_count": null,
   "metadata": {
    "collapsed": false,
    "pycharm": {
     "name": "#%%\n"
    }
   },
   "outputs": [],
   "source": [
    "del train_df['floor_count']\n",
    "del train_df['year_built']"
   ]
  },
  {
   "cell_type": "code",
   "execution_count": null,
   "metadata": {
    "collapsed": false,
    "pycharm": {
     "name": "#%%\n"
    }
   },
   "outputs": [],
   "source": [
    "train_df.columns"
   ]
  },
  {
   "cell_type": "markdown",
   "metadata": {
    "collapsed": false
   },
   "source": [
    "# Exploring Data for outliers"
   ]
  },
  {
   "cell_type": "markdown",
   "metadata": {
    "collapsed": false
   },
   "source": [
    "## keeping only meter 0 and 1"
   ]
  },
  {
   "cell_type": "markdown",
   "metadata": {
    "collapsed": false
   },
   "source": [
    "0: electricity\n",
    "1: chilled water"
   ]
  },
  {
   "cell_type": "code",
   "execution_count": null,
   "metadata": {
    "collapsed": false,
    "pycharm": {
     "name": "#%%\n"
    }
   },
   "outputs": [],
   "source": [
    "train_df.drop(index=train_df[ train_df['meter'] > 1].index, inplace=True )"
   ]
  },
  {
   "cell_type": "code",
   "execution_count": null,
   "metadata": {
    "collapsed": false,
    "pycharm": {
     "name": "#%%\n"
    }
   },
   "outputs": [],
   "source": [
    "train_df.meter.unique()"
   ]
  },
  {
   "cell_type": "code",
   "execution_count": null,
   "metadata": {
    "collapsed": false,
    "pycharm": {
     "name": "#%%\n"
    }
   },
   "outputs": [],
   "source": [
    "train_df.site_id.unique()"
   ]
  },
  {
   "cell_type": "markdown",
   "metadata": {
    "collapsed": false
   },
   "source": [
    "## Visualizing mean of energy per site"
   ]
  },
  {
   "cell_type": "code",
   "execution_count": null,
   "metadata": {
    "collapsed": false,
    "pycharm": {
     "name": "#%%\n"
    }
   },
   "outputs": [],
   "source": [
    "fig, axes = plt.subplots(16,figsize=(15, 25), dpi=100)\n",
    "for i in range(train_df['site_id'].nunique()):\n",
    "    try:\n",
    "        train_df[train_df['site_id'] == i][['timestamp', 'meter_reading']].set_index('timestamp').resample('H').mean().plot(ax=axes[i], alpha=0.8, label='By hour')\n",
    "        axes[i].set_title('site_id {}'.format(i), fontsize=13);\n",
    "        plt.subplots_adjust(hspace=0.6)\n",
    "    except: pass"
   ]
  },
  {
   "cell_type": "markdown",
   "metadata": {
    "collapsed": false
   },
   "source": [
    "## Checking site 9"
   ]
  },
  {
   "cell_type": "code",
   "execution_count": null,
   "metadata": {
    "collapsed": false,
    "pycharm": {
     "name": "#%%\n"
    }
   },
   "outputs": [],
   "source": [
    "fig, axes = plt.subplots(2,1,figsize=(15, 10), dpi=100)\n",
    "for i in list( train_df[(train_df['site_id'] == 9)]['meter'].unique() ) :\n",
    "    train_df[(train_df['site_id'] == 9) & (train_df['meter'] == i)][['timestamp', 'meter_reading']].set_index('timestamp').resample('H').mean()['meter_reading'].plot(ax=axes[i], alpha=0.8, label='By hour', color='tab:blue').set_ylabel('Mean meter reading', fontsize=13);\n",
    "    axes[i].legend();\n",
    "    axes[i].set_title('Meter: ' + str(i), fontsize=13);\n",
    "    plt.subplots_adjust(hspace=0.6)"
   ]
  },
  {
   "cell_type": "markdown",
   "metadata": {
    "collapsed": false
   },
   "source": [
    "### we can see clear outliers, lets check if it's a building issue or a certain type or buildings"
   ]
  },
  {
   "cell_type": "code",
   "execution_count": null,
   "metadata": {
    "collapsed": false,
    "pycharm": {
     "name": "#%%\n"
    }
   },
   "outputs": [],
   "source": [
    "# train_df[(train_df['site_id'] == 9)]['primary_use'].unique()"
   ]
  },
  {
   "cell_type": "code",
   "execution_count": null,
   "metadata": {
    "collapsed": false,
    "pycharm": {
     "name": "#%%\n"
    }
   },
   "outputs": [],
   "source": [
    "fig, axes = plt.subplots(6,1,figsize=(14, 18), dpi=100)\n",
    "counter_var=0\n",
    "for i in list( train_df[(train_df['site_id'] == 9)]['primary_use'].unique() ) :\n",
    "    train_df[ (train_df['site_id'] == 9) & (train_df['primary_use'] == i) ] [['timestamp', 'meter_reading']].set_index('timestamp').resample('H').mean()['meter_reading'].plot(ax=axes[counter_var], alpha=0.8, label='By hour', color='tab:blue').set_ylabel('Mean meter reading', fontsize=13)\n",
    "    axes[counter_var].set_title('primary_use: ' + str(i), fontsize=13);\n",
    "    counter_var+=1\n",
    "    plt.subplots_adjust(hspace=0.6)"
   ]
  },
  {
   "cell_type": "markdown",
   "metadata": {
    "collapsed": false
   },
   "source": [
    "### Clipping values"
   ]
  },
  {
   "cell_type": "markdown",
   "metadata": {
    "collapsed": false
   },
   "source": [
    "let's try clipping at 200"
   ]
  },
  {
   "cell_type": "code",
   "execution_count": null,
   "metadata": {
    "collapsed": false,
    "pycharm": {
     "name": "#%%\n"
    }
   },
   "outputs": [],
   "source": [
    "clipped_values= train_df[(train_df['site_id'] == 9)].meter_reading.clip( upper=200, axis=0)\n",
    "clipped_idx= train_df[(train_df['site_id'] == 9)].index\n",
    "train_df.loc[clipped_idx,'meter_reading']= clipped_values"
   ]
  },
  {
   "cell_type": "markdown",
   "metadata": {
    "collapsed": false
   },
   "source": [
    "let's visualize again"
   ]
  },
  {
   "cell_type": "code",
   "execution_count": null,
   "metadata": {
    "collapsed": false,
    "pycharm": {
     "name": "#%%\n"
    }
   },
   "outputs": [],
   "source": [
    "fig, axes = plt.subplots(6,1,figsize=(14, 18), dpi=100)\n",
    "counter_var=0\n",
    "for i in list( train_df[(train_df['site_id'] == 9)]['primary_use'].unique() ) :\n",
    "    train_df[ (train_df['site_id'] == 9) & (train_df['primary_use'] == i) ] [['timestamp', 'meter_reading']].set_index('timestamp').resample('H').mean()['meter_reading'].plot(ax=axes[counter_var], alpha=0.8, label='By hour', color='tab:blue').set_ylabel('Mean meter reading', fontsize=13)\n",
    "    #train_df[ (train_df['site_id'] == 9) & (train_df['primary_use'] == i) ] [['timestamp', 'meter_reading']].set_index('timestamp').resample('H').var()['meter_reading'].plot(ax=axes[counter_var], alpha=0.8, label='By hour', color='tab:red').set_ylabel('Mean meter reading', fontsize=13)\n",
    "    axes[counter_var].set_title('primary_use: ' + str(i), fontsize=13);\n",
    "    counter_var+=1\n",
    "    plt.subplots_adjust(hspace=0.6)"
   ]
  },
  {
   "cell_type": "markdown",
   "metadata": {
    "collapsed": false
   },
   "source": [
    "well that's way better!"
   ]
  },
  {
   "cell_type": "markdown",
   "metadata": {
    "collapsed": false
   },
   "source": [
    "### so we decided keep site 9 and clip the values"
   ]
  },
  {
   "cell_type": "markdown",
   "metadata": {
    "collapsed": false
   },
   "source": [
    "## Checking site 13"
   ]
  },
  {
   "cell_type": "code",
   "execution_count": null,
   "metadata": {
    "collapsed": false,
    "pycharm": {
     "name": "#%%\n"
    }
   },
   "outputs": [],
   "source": [
    "fig, axes = plt.subplots(len(train_df[(train_df['site_id'] == 13)]['primary_use'].unique()),\n",
    "                         1,figsize=(14, 18), dpi=100)\n",
    "counter_var=0\n",
    "for i in list( train_df[(train_df['site_id'] == 13)]['primary_use'].unique() ) :\n",
    "    train_df[ (train_df['site_id'] == 13) & (train_df['primary_use'] == i) ] [['timestamp', 'meter_reading']].set_index('timestamp').resample('H').mean()['meter_reading'].plot(ax=axes[counter_var], alpha=0.8, label='By hour', color='tab:blue').set_ylabel('Mean meter reading', fontsize=13)\n",
    "    axes[counter_var].set_title('primary_use: ' + str(i), fontsize=13);\n",
    "    counter_var+=1\n",
    "    plt.subplots_adjust(hspace=0.6)"
   ]
  },
  {
   "cell_type": "markdown",
   "metadata": {
    "collapsed": false
   },
   "source": [
    "### so we decided to ditch site13's primary use 0"
   ]
  },
  {
   "cell_type": "code",
   "execution_count": null,
   "metadata": {
    "collapsed": false,
    "pycharm": {
     "name": "#%%\n"
    }
   },
   "outputs": [],
   "source": [
    "train_df.drop(index=train_df[ (train_df['site_id'] == 9) & (train_df['primary_use'] == 0) ].index, inplace=True )"
   ]
  },
  {
   "cell_type": "markdown",
   "metadata": {
    "collapsed": false
   },
   "source": [
    "### Showing the effect of dropping the outlier"
   ]
  },
  {
   "cell_type": "code",
   "execution_count": null,
   "metadata": {
    "collapsed": false,
    "pycharm": {
     "name": "#%%\n"
    }
   },
   "outputs": [],
   "source": [
    "fig, axes = plt.subplots(2,1,figsize=(14, 10), dpi=100)\n",
    "for i in list( train_df[(train_df['site_id'] == 13)]['meter'].unique() ) :\n",
    "    train_df[(train_df['site_id'] == 13) & (train_df['meter'] == i)][['timestamp', 'meter_reading']].set_index('timestamp').resample('H').mean()['meter_reading'].plot(ax=axes[i], alpha=0.8, label='By hour', color='tab:blue').set_ylabel('Mean meter reading', fontsize=13);\n",
    "    axes[i].set_title('Meter: ' + str(i), fontsize=13);\n",
    "    plt.subplots_adjust(hspace=0.6)"
   ]
  },
  {
   "cell_type": "markdown",
   "metadata": {
    "collapsed": false
   },
   "source": [
    "### clipping values"
   ]
  },
  {
   "cell_type": "code",
   "execution_count": null,
   "metadata": {
    "collapsed": false,
    "pycharm": {
     "name": "#%%\n"
    }
   },
   "outputs": [],
   "source": [
    "condition= train_df[(train_df['site_id'] == 13) & (train_df.meter == 1)]\n",
    "clipped_values= condition.meter_reading.clip(upper=1000, axis=0)\n",
    "clipped_idx= condition.index\n",
    "train_df.loc[clipped_idx,'meter_reading']= clipped_values"
   ]
  },
  {
   "cell_type": "code",
   "execution_count": null,
   "metadata": {
    "collapsed": false,
    "pycharm": {
     "name": "#%%\n"
    }
   },
   "outputs": [],
   "source": [
    "condition= train_df[(train_df['site_id'] == 13) & (train_df.meter == 0) & (train_df.month.isin([3,4]) ) ]\n",
    "clipped_values= condition.meter_reading.clip(upper=350, axis=0)\n",
    "clipped_idx= condition.index\n",
    "train_df.loc[clipped_idx,'meter_reading']= clipped_values"
   ]
  },
  {
   "cell_type": "markdown",
   "metadata": {
    "collapsed": false
   },
   "source": [
    "### Visualizing again"
   ]
  },
  {
   "cell_type": "code",
   "execution_count": null,
   "metadata": {
    "collapsed": false,
    "pycharm": {
     "name": "#%%\n"
    }
   },
   "outputs": [],
   "source": [
    "fig, axes = plt.subplots(len(train_df[(train_df['site_id'] == 13)]['primary_use'].unique()),\n",
    "                         1,figsize=(14, 18), dpi=100)\n",
    "counter_var=0\n",
    "for i in list( train_df[(train_df['site_id'] == 13)]['primary_use'].unique() ) :\n",
    "    train_df[ (train_df['site_id'] == 13) & (train_df['primary_use'] == i) ] [['timestamp', 'meter_reading']].set_index('timestamp').resample('H').mean()['meter_reading'].plot(ax=axes[counter_var], alpha=0.8, label='By hour', color='tab:blue').set_ylabel('Mean meter reading', fontsize=13)\n",
    "    axes[counter_var].set_title('primary_use: ' + str(i), fontsize=13);\n",
    "    counter_var+=1\n",
    "    plt.subplots_adjust(hspace=0.6)"
   ]
  },
  {
   "cell_type": "markdown",
   "metadata": {
    "collapsed": false
   },
   "source": [
    "## Checking site 6"
   ]
  },
  {
   "cell_type": "code",
   "execution_count": null,
   "metadata": {
    "collapsed": false,
    "pycharm": {
     "name": "#%%\n"
    }
   },
   "outputs": [],
   "source": [
    "fig, axes = plt.subplots(len(train_df[(train_df['site_id'] == 6)]['primary_use'].unique()),\n",
    "                         1,figsize=(14, 18), dpi=100)\n",
    "counter_var=0\n",
    "for i in list( train_df[(train_df['site_id'] == 6)]['primary_use'].unique() ) :\n",
    "    train_df[ (train_df['site_id'] == 6) & (train_df['primary_use'] == i) ] [['timestamp', 'meter_reading']].set_index('timestamp').resample('H').mean()['meter_reading'].plot(ax=axes[counter_var], alpha=0.8, label='By hour', color='tab:blue').set_ylabel('Mean meter reading', fontsize=13)\n",
    "    axes[counter_var].set_title('primary_use: ' + str(i), fontsize=13);\n",
    "    counter_var+=1"
   ]
  },
  {
   "cell_type": "code",
   "execution_count": null,
   "metadata": {
    "collapsed": false,
    "pycharm": {
     "name": "#%%\n"
    }
   },
   "outputs": [],
   "source": [
    "fig, axes = plt.subplots(2,1,figsize=(14, 18), dpi=100)\n",
    "for i in list( train_df[(train_df['site_id'] == 6)]['meter'].unique() ) :\n",
    "    train_df[(train_df['site_id'] == 6) & (train_df['meter'] == i)][['timestamp', 'meter_reading']].set_index('timestamp').resample('H').mean()['meter_reading'].plot(ax=axes[i], alpha=0.8, label='By hour', color='tab:blue').set_ylabel('Mean meter reading', fontsize=13);\n",
    "    axes[i].legend();\n",
    "    axes[i].set_title('Meter: ' + str(i), fontsize=13);"
   ]
  },
  {
   "cell_type": "markdown",
   "metadata": {
    "collapsed": false
   },
   "source": [
    "### we see that primary_use 1 is the outlaier\n",
    "it's clear that in one of the buildings the chilled water usage rose very high creatign a problem, but as it's hard to put our hands on the specific building we will just ditch the whole use"
   ]
  },
  {
   "cell_type": "code",
   "execution_count": null,
   "metadata": {
    "collapsed": false,
    "pycharm": {
     "name": "#%%\n"
    }
   },
   "outputs": [],
   "source": [
    "train_df.drop(index=train_df[ (train_df['site_id'] == 6) & (train_df['primary_use'] == 1) ].index, inplace=True )"
   ]
  },
  {
   "cell_type": "markdown",
   "metadata": {
    "collapsed": false
   },
   "source": [
    "### clipping values"
   ]
  },
  {
   "cell_type": "code",
   "execution_count": null,
   "metadata": {
    "collapsed": false,
    "pycharm": {
     "name": "#%%\n"
    }
   },
   "outputs": [],
   "source": [
    "condition= train_df[(train_df['site_id'] == 6) & (train_df.meter == 1) & (train_df.month == 3)]\n",
    "clipped_values= condition.meter_reading.clip( upper=350, axis=0)\n",
    "clipped_idx= condition.index\n",
    "train_df.loc[clipped_idx,'meter_reading']= clipped_values"
   ]
  },
  {
   "cell_type": "markdown",
   "metadata": {
    "collapsed": false
   },
   "source": [
    "### Visualizing again after clipping"
   ]
  },
  {
   "cell_type": "code",
   "execution_count": null,
   "metadata": {
    "collapsed": false,
    "pycharm": {
     "name": "#%%\n"
    }
   },
   "outputs": [],
   "source": [
    "fig, axes = plt.subplots(len(train_df[(train_df['site_id'] == 6)]['primary_use'].unique()),\n",
    "                         1,figsize=(14, 18), dpi=100)\n",
    "counter_var=0\n",
    "for i in list( train_df[(train_df['site_id'] == 6)]['primary_use'].unique() ) :\n",
    "    train_df[ (train_df['site_id'] == 6) & (train_df['primary_use'] == i) ] [['timestamp', 'meter_reading']].set_index('timestamp').resample('H').mean()['meter_reading'].plot(ax=axes[counter_var], alpha=0.8, label='By hour', color='tab:blue').set_ylabel('Mean meter reading', fontsize=13)\n",
    "    axes[counter_var].set_title('primary_use: ' + str(i), fontsize=13);\n",
    "    counter_var+=1\n",
    "    plt.subplots_adjust(hspace=0.6)"
   ]
  },
  {
   "cell_type": "markdown",
   "metadata": {
    "collapsed": false
   },
   "source": [
    "## Checking site 0"
   ]
  },
  {
   "cell_type": "code",
   "execution_count": null,
   "metadata": {
    "collapsed": false,
    "pycharm": {
     "name": "#%%\n"
    }
   },
   "outputs": [],
   "source": [
    "fig, axes = plt.subplots(len(train_df[(train_df['site_id'] == 0)]['primary_use'].unique()),\n",
    "                         1,figsize=(14, 18), dpi=100)\n",
    "counter_var=0\n",
    "for i in list( train_df[(train_df['site_id'] == 0)]['primary_use'].unique() ) :\n",
    "    train_df[ (train_df['site_id'] == 0) & (train_df['primary_use'] == i) ] [['timestamp', 'meter_reading']].set_index('timestamp').resample('H').mean()['meter_reading'].plot(ax=axes[counter_var], alpha=0.8, label='By hour', color='tab:blue').set_ylabel('Mean meter reading', fontsize=13)\n",
    "    axes[counter_var].set_title('primary_use: ' + str(i), fontsize=13);\n",
    "    counter_var+=1\n",
    "    plt.subplots_adjust(hspace=0.6)"
   ]
  },
  {
   "cell_type": "code",
   "execution_count": null,
   "metadata": {
    "collapsed": false,
    "pycharm": {
     "name": "#%%\n"
    }
   },
   "outputs": [],
   "source": [
    "fig, axes = plt.subplots(2,1,figsize=(14, 10), dpi=100)\n",
    "for i in list( train_df[(train_df['site_id'] == 0)]['meter'].unique() ) :\n",
    "    train_df[(train_df['site_id'] == 0) & (train_df['meter'] == i)][['timestamp', 'meter_reading']].set_index('timestamp').resample('H').mean()['meter_reading'].plot(ax=axes[i], alpha=0.8, label='By hour', color='tab:blue').set_ylabel('Mean meter reading', fontsize=13);\n",
    "    axes[i].set_title('Meter: ' + str(i), fontsize=13);\n",
    "    plt.subplots_adjust(hspace=0.6)"
   ]
  },
  {
   "cell_type": "markdown",
   "metadata": {
    "collapsed": false
   },
   "source": [
    "### We can see that for site 0 the problem is with electricity\n",
    " since it's for all of the usages, we wil lditch it, and then cut the percentage of the outlaier we can see in the chilled water meter"
   ]
  },
  {
   "cell_type": "code",
   "execution_count": null,
   "metadata": {
    "collapsed": false,
    "pycharm": {
     "name": "#%%\n"
    }
   },
   "outputs": [],
   "source": [
    "train_df.drop(index=train_df[ (train_df['site_id'] == 0) & (train_df['meter'] == 0) ].index, inplace=True )"
   ]
  },
  {
   "cell_type": "markdown",
   "metadata": {
    "collapsed": false
   },
   "source": [
    "### Visualizing every primary_use now"
   ]
  },
  {
   "cell_type": "code",
   "execution_count": null,
   "metadata": {
    "collapsed": false,
    "pycharm": {
     "name": "#%%\n"
    }
   },
   "outputs": [],
   "source": [
    "fig, axes = plt.subplots(len(train_df[(train_df['site_id'] == 0)]['primary_use'].unique()),\n",
    "                         1,figsize=(14, 18), dpi=100)\n",
    "counter_var=0\n",
    "for i in list( train_df[(train_df['site_id'] == 0)]['primary_use'].unique() ) :\n",
    "    train_df[ (train_df['site_id'] == 0) & (train_df['primary_use'] == i) ] [['timestamp', 'meter_reading']].set_index('timestamp').resample('H').mean()['meter_reading'].plot(ax=axes[counter_var], alpha=0.8, label='By hour', color='tab:blue').set_ylabel('Mean meter reading', fontsize=13)\n",
    "    axes[counter_var].set_title('primary_use: ' + str(i), fontsize=13);\n",
    "    counter_var+=1\n",
    "    plt.subplots_adjust(hspace=0.6)"
   ]
  },
  {
   "cell_type": "markdown",
   "metadata": {
    "collapsed": false
   },
   "source": [
    "### Clipping outliers"
   ]
  },
  {
   "cell_type": "code",
   "execution_count": null,
   "metadata": {
    "collapsed": false,
    "pycharm": {
     "name": "#%%\n"
    }
   },
   "outputs": [],
   "source": [
    "clipped_values= train_df[(train_df['site_id'] == 0) & ( train_df.primary_use==0) & ( train_df.month==5) ].meter_reading.clip( upper=5000, axis=0)\n",
    "clipped_idx= train_df[(train_df['site_id'] == 0) & ( train_df.primary_use==0) & ( train_df.month==5) ].index\n",
    "train_df.loc[clipped_idx,'meter_reading']= clipped_values"
   ]
  },
  {
   "cell_type": "code",
   "execution_count": null,
   "metadata": {
    "collapsed": false,
    "pycharm": {
     "name": "#%%\n"
    }
   },
   "outputs": [],
   "source": [
    "clipped_values= train_df[(train_df['site_id'] == 0) & ( train_df.primary_use==4) & ( train_df.month==7) ].meter_reading.clip( upper=5000, axis=0)\n",
    "clipped_idx= train_df[(train_df['site_id'] == 0) & ( train_df.primary_use==4) & ( train_df.month==7) ].index\n",
    "train_df.loc[clipped_idx,'meter_reading']= clipped_values"
   ]
  },
  {
   "cell_type": "code",
   "execution_count": null,
   "metadata": {
    "collapsed": false,
    "pycharm": {
     "name": "#%%\n"
    }
   },
   "outputs": [],
   "source": [
    "fig, axes = plt.subplots(1,1,figsize=(15, 5), dpi=100)\n",
    "train_df[(train_df['site_id'] == 0)][['timestamp', 'meter_reading']].set_index('timestamp').resample('H').mean()['meter_reading'].plot(ax=axes, alpha=0.8, label='By hour', color='tab:blue').set_ylabel('Mean meter reading', fontsize=13);\n",
    "axes.set_title('Meter: 1 ', fontsize=13);"
   ]
  },
  {
   "cell_type": "markdown",
   "metadata": {
    "collapsed": false
   },
   "source": [
    "Visualizing again for the primary_use after removing"
   ]
  },
  {
   "cell_type": "code",
   "execution_count": null,
   "metadata": {
    "collapsed": false,
    "pycharm": {
     "name": "#%%\n"
    }
   },
   "outputs": [],
   "source": [
    "fig, axes = plt.subplots(len(train_df[(train_df['site_id'] == 0)]['primary_use'].unique()),\n",
    "                         1,figsize=(14, 18), dpi=100)\n",
    "counter_var=0\n",
    "for i in list( train_df[(train_df['site_id'] == 0)]['primary_use'].unique() ) :\n",
    "    train_df[ (train_df['site_id'] == 0) & (train_df['primary_use'] == i) ] [['timestamp', 'meter_reading']].set_index('timestamp').resample('H').mean()['meter_reading'].plot(ax=axes[counter_var], alpha=0.8, label='By hour', color='tab:blue').set_ylabel('Mean meter reading', fontsize=13)\n",
    "    axes[counter_var].set_title('primary_use: ' + str(i), fontsize=13);\n",
    "    counter_var+=1\n",
    "    plt.subplots_adjust(hspace=0.6)"
   ]
  },
  {
   "cell_type": "markdown",
   "metadata": {
    "collapsed": false
   },
   "source": [
    "## Checking site 9"
   ]
  },
  {
   "cell_type": "code",
   "execution_count": null,
   "metadata": {
    "collapsed": false,
    "pycharm": {
     "name": "#%%\n"
    }
   },
   "outputs": [],
   "source": [
    "cond= train_df[(train_df['site_id'] == 9)]\n",
    "fig, axes = plt.subplots(len(cond['primary_use'].unique()),\n",
    "                         1,figsize=(14, 18), dpi=100)\n",
    "counter_var=0\n",
    "for i in list( cond['primary_use'].unique() ) :\n",
    "    train_df[ (train_df['site_id'] == 9) & (train_df['primary_use'] == i) ] [['timestamp', 'meter_reading']].set_index('timestamp').resample('H').mean()['meter_reading'].plot(ax=axes[counter_var], alpha=0.8, label='By hour', color='tab:blue').set_ylabel('Mean meter reading', fontsize=13)\n",
    "    axes[counter_var].set_title('primary_use: ' + str(i), fontsize=13);\n",
    "    counter_var+=1\n",
    "    plt.subplots_adjust(hspace=0.6)"
   ]
  },
  {
   "cell_type": "markdown",
   "metadata": {
    "collapsed": false
   },
   "source": [
    "### Clipping"
   ]
  },
  {
   "cell_type": "code",
   "execution_count": null,
   "metadata": {
    "collapsed": false,
    "pycharm": {
     "name": "#%%\n"
    }
   },
   "outputs": [],
   "source": [
    "condition_df= train_df[(train_df['site_id'] == 9) & ( train_df.primary_use==6)  ]\n",
    "clipped_values= condition_df.meter_reading.clip( upper=40, axis=0)\n",
    "clipped_idx= condition_df.index\n",
    "train_df.loc[clipped_idx,'meter_reading']= clipped_values"
   ]
  },
  {
   "cell_type": "code",
   "execution_count": null,
   "metadata": {
    "collapsed": false,
    "pycharm": {
     "name": "#%%\n"
    }
   },
   "outputs": [],
   "source": [
    "condition_df= train_df[(train_df['site_id'] == 9) & ( train_df.primary_use==12)  ]\n",
    "clipped_values= condition_df.meter_reading.clip( upper=85, axis=0)\n",
    "clipped_idx= condition_df.index\n",
    "train_df.loc[clipped_idx,'meter_reading']= clipped_values"
   ]
  },
  {
   "cell_type": "code",
   "execution_count": null,
   "metadata": {
    "collapsed": false,
    "pycharm": {
     "name": "#%%\n"
    }
   },
   "outputs": [],
   "source": [
    "condition_df= train_df[(train_df['site_id'] == 9) & ( train_df.primary_use==4)  ]\n",
    "clipped_values= condition_df.meter_reading.clip( upper=30, axis=0)\n",
    "clipped_idx= condition_df.index\n",
    "train_df.loc[clipped_idx,'meter_reading']= clipped_values"
   ]
  },
  {
   "cell_type": "code",
   "execution_count": null,
   "metadata": {
    "collapsed": false,
    "pycharm": {
     "name": "#%%\n"
    }
   },
   "outputs": [],
   "source": [
    "condition_df= train_df[(train_df['site_id'] == 9) & ( train_df.primary_use.isin([9,1]) ) ]\n",
    "clipped_values= condition_df.meter_reading.clip( upper=100, axis=0)\n",
    "clipped_idx= condition_df.index\n",
    "train_df.loc[clipped_idx,'meter_reading']= clipped_values"
   ]
  },
  {
   "cell_type": "markdown",
   "metadata": {
    "collapsed": false
   },
   "source": [
    "### Visualizing after clipping"
   ]
  },
  {
   "cell_type": "code",
   "execution_count": null,
   "metadata": {
    "collapsed": false,
    "pycharm": {
     "name": "#%%\n"
    }
   },
   "outputs": [],
   "source": [
    "cond= train_df[(train_df['site_id'] == 9)]\n",
    "fig, axes = plt.subplots(len(cond['primary_use'].unique()),\n",
    "                         1,figsize=(14, 18), dpi=100)\n",
    "counter_var=0\n",
    "for i in list( cond['primary_use'].unique() ) :\n",
    "    train_df[ (train_df['site_id'] == 9) & (train_df['primary_use'] == i) ] [['timestamp', 'meter_reading']].set_index('timestamp').resample('H').mean()['meter_reading'].plot(ax=axes[counter_var], alpha=0.8, label='By hour', color='tab:blue').set_ylabel('Mean meter reading', fontsize=13)\n",
    "    axes[counter_var].set_title('primary_use: ' + str(i), fontsize=13);\n",
    "    counter_var+=1\n",
    "    plt.subplots_adjust(hspace=0.6)"
   ]
  },
  {
   "cell_type": "markdown",
   "metadata": {
    "collapsed": false
   },
   "source": [
    "## Checking site 7"
   ]
  },
  {
   "cell_type": "code",
   "execution_count": null,
   "metadata": {
    "collapsed": false,
    "pycharm": {
     "name": "#%%\n"
    }
   },
   "outputs": [],
   "source": [
    "fig, axes = plt.subplots(2,1,figsize=(14, 10), dpi=100)\n",
    "for i in list( train_df[(train_df['site_id'] == 7)]['meter'].unique() ) :\n",
    "    train_df[(train_df['site_id'] == 7) & (train_df['meter'] == i)][['timestamp', 'meter_reading']].set_index('timestamp').resample('H').mean()['meter_reading'].plot(ax=axes[i], alpha=0.8, label='By hour', color='tab:blue').set_ylabel('Mean meter reading', fontsize=13);\n",
    "    axes[i].set_title('Meter: ' + str(i), fontsize=13);\n",
    "    plt.subplots_adjust(hspace=0.6)"
   ]
  },
  {
   "cell_type": "code",
   "execution_count": null,
   "metadata": {
    "collapsed": false,
    "pycharm": {
     "name": "#%%\n"
    }
   },
   "outputs": [],
   "source": [
    "cond= train_df[(train_df['site_id'] == 7)]\n",
    "fig, axes = plt.subplots(len(cond['primary_use'].unique()),\n",
    "                         1,figsize=(14, 5), dpi=100)\n",
    "counter_var=0\n",
    "for i in list( cond['primary_use'].unique() ) :\n",
    "    train_df[ (train_df['site_id'] == 7) & (train_df['primary_use'] == i) ] [['timestamp', 'meter_reading']].set_index('timestamp').resample('H').mean()['meter_reading'].plot(ax=axes, alpha=0.8, label='By hour', color='tab:blue').set_ylabel('Mean meter reading', fontsize=13)\n",
    "    axes.set_title('primary_use: ' + str(i), fontsize=13);\n",
    "    counter_var+=1\n",
    "    plt.subplots_adjust(hspace=0.6)"
   ]
  },
  {
   "cell_type": "markdown",
   "metadata": {
    "collapsed": false
   },
   "source": [
    "### Ok seems fine and normal."
   ]
  },
  {
   "cell_type": "markdown",
   "metadata": {
    "collapsed": false
   },
   "source": [
    "## Checking site 8"
   ]
  },
  {
   "cell_type": "code",
   "execution_count": null,
   "metadata": {
    "collapsed": false,
    "pycharm": {
     "name": "#%%\n"
    }
   },
   "outputs": [],
   "source": [
    "fig, axes = plt.subplots(1,1,figsize=(14, 5), dpi=100)\n",
    "for i in list( train_df[(train_df['site_id'] == 8)]['meter'].unique() ) :\n",
    "    train_df[(train_df['site_id'] == 8) & (train_df['meter'] == i)][['timestamp', 'meter_reading']].set_index('timestamp').resample('H').mean()['meter_reading'].plot(ax=axes, alpha=0.8, label='By hour', color='tab:blue').set_ylabel('Mean meter reading', fontsize=13);\n",
    "    axes.set_title('Meter: ' + str(i), fontsize=13);\n",
    "    plt.subplots_adjust(hspace=0.6)\n",
    "\n",
    "cond= train_df[(train_df['site_id'] == 8)]\n",
    "fig, axes = plt.subplots(len(cond['primary_use'].unique()),\n",
    "                         1,figsize=(14, 18), dpi=100)\n",
    "counter_var=0\n",
    "for i in list( cond['primary_use'].unique() ) :\n",
    "    train_df[ (train_df['site_id'] == 8) & (train_df['primary_use'] == i) ] [['timestamp', 'meter_reading']].set_index('timestamp').resample('H').mean()['meter_reading'].plot(ax=axes[counter_var], alpha=0.8, label='By hour', color='tab:blue').set_ylabel('Mean meter reading', fontsize=13)\n",
    "    axes[counter_var].set_title('primary_use: ' + str(i), fontsize=13);\n",
    "    counter_var+=1\n",
    "    plt.subplots_adjust(hspace=0.6)"
   ]
  },
  {
   "cell_type": "markdown",
   "metadata": {
    "collapsed": false
   },
   "source": [
    "so there are outliers higher than 150 so that will be our threshold"
   ]
  },
  {
   "cell_type": "markdown",
   "metadata": {
    "collapsed": false
   },
   "source": [
    "### Clipping"
   ]
  },
  {
   "cell_type": "code",
   "execution_count": null,
   "metadata": {
    "collapsed": false,
    "pycharm": {
     "name": "#%%\n"
    }
   },
   "outputs": [],
   "source": [
    "condition_df= train_df[(train_df['site_id'] == 8) ]\n",
    "clipped_values= condition_df.meter_reading.clip( upper=40, axis=0)\n",
    "clipped_idx= condition_df.index\n",
    "train_df.loc[clipped_idx,'meter_reading']= clipped_values"
   ]
  },
  {
   "cell_type": "markdown",
   "metadata": {
    "collapsed": false
   },
   "source": [
    "### Visualizing after clipping"
   ]
  },
  {
   "cell_type": "code",
   "execution_count": null,
   "metadata": {
    "collapsed": false,
    "pycharm": {
     "name": "#%%\n"
    }
   },
   "outputs": [],
   "source": [
    "fig, axes = plt.subplots(1,1,figsize=(14, 5), dpi=100)\n",
    "for i in list( train_df[(train_df['site_id'] == 8)]['meter'].unique() ) :\n",
    "    train_df[(train_df['site_id'] == 8) & (train_df['meter'] == i)][['timestamp', 'meter_reading']].set_index('timestamp').resample('H').mean()['meter_reading'].plot(ax=axes, alpha=0.8, label='By hour', color='tab:blue').set_ylabel('Mean meter reading', fontsize=13);\n",
    "    axes.set_title('Meter: ' + str(i), fontsize=13);\n",
    "    plt.subplots_adjust(hspace=0.6)\n",
    "\n",
    "cond= train_df[(train_df['site_id'] == 8)]\n",
    "fig, axes = plt.subplots(len(cond['primary_use'].unique()),\n",
    "                         1,figsize=(14, 18), dpi=100)\n",
    "counter_var=0\n",
    "for i in list( cond['primary_use'].unique() ) :\n",
    "    train_df[ (train_df['site_id'] == 8) & (train_df['primary_use'] == i) ] [['timestamp', 'meter_reading']].set_index('timestamp').resample('H').mean()['meter_reading'].plot(ax=axes[counter_var], alpha=0.8, label='By hour', color='tab:blue').set_ylabel('Mean meter reading', fontsize=13)\n",
    "    axes[counter_var].set_title('primary_use: ' + str(i), fontsize=13);\n",
    "    counter_var+=1\n",
    "    plt.subplots_adjust(hspace=0.6)"
   ]
  },
  {
   "cell_type": "markdown",
   "metadata": {
    "collapsed": false
   },
   "source": [
    "## Checking site 10"
   ]
  },
  {
   "cell_type": "code",
   "execution_count": null,
   "metadata": {
    "collapsed": false,
    "pycharm": {
     "name": "#%%\n"
    }
   },
   "outputs": [],
   "source": [
    "fig, axes = plt.subplots(2,1,figsize=(14, 6), dpi=100)\n",
    "for i in list( train_df[(train_df['site_id'] == 10)]['meter'].unique() ) :\n",
    "    train_df[(train_df['site_id'] == 10) & (train_df['meter'] == i)][['timestamp', 'meter_reading']].set_index('timestamp').resample('H').mean()['meter_reading'].plot(ax=axes[i], alpha=0.8, label='By hour', color='tab:blue').set_ylabel('Mean meter reading', fontsize=13);\n",
    "    axes[i].set_title('Meter: ' + str(i), fontsize=13);\n",
    "    plt.subplots_adjust(hspace=0.6)\n",
    "\n",
    "cond= train_df[(train_df['site_id'] == 10)]\n",
    "fig, axes = plt.subplots(len(cond['primary_use'].unique()),\n",
    "                         1,figsize=(14, 18), dpi=100)\n",
    "counter_var=0\n",
    "for i in list( cond['primary_use'].unique() ) :\n",
    "    train_df[ (train_df['site_id'] == 10) & (train_df['primary_use'] == i) ] [['timestamp', 'meter_reading']].set_index('timestamp').resample('H').mean()['meter_reading'].plot(ax=axes[counter_var], alpha=0.8, label='By hour', color='tab:blue').set_ylabel('Mean meter reading', fontsize=13)\n",
    "    axes[counter_var].set_title('primary_use: ' + str(i), fontsize=13);\n",
    "    counter_var+=1\n",
    "    plt.subplots_adjust(hspace=0.6)"
   ]
  },
  {
   "cell_type": "markdown",
   "metadata": {
    "collapsed": false
   },
   "source": [
    "### Clipping values"
   ]
  },
  {
   "cell_type": "code",
   "execution_count": null,
   "metadata": {
    "collapsed": false,
    "pycharm": {
     "name": "#%%\n"
    }
   },
   "outputs": [],
   "source": [
    "condition_df= train_df[(train_df['site_id'] == 10)& (train_df.primary_use==0) ]\n",
    "clipped_values= condition_df.meter_reading.clip( upper=150, axis=0)\n",
    "clipped_idx= condition_df.index\n",
    "train_df.loc[clipped_idx,'meter_reading']= clipped_values\n",
    "\n",
    "# dropping primary use 7, 13 as it's range is just so suspecious\n",
    "condition= train_df[(train_df['site_id'] == 10) & (train_df.primary_use.isin([7,13])) ]\n",
    "train_df.drop(index=condition.index , inplace=True)\n",
    "\n",
    "condition_df= train_df[(train_df['site_id'] == 10) & (train_df.primary_use==13)&(train_df.month==10) ]\n",
    "clipped_values= condition_df.meter_reading.clip( upper=400, axis=0)\n",
    "clipped_idx= condition_df.index\n",
    "train_df.loc[clipped_idx,'meter_reading']= clipped_values\n",
    "\n",
    "condition_df= train_df[(train_df['site_id'] == 10) & (train_df.primary_use==4) ]\n",
    "clipped_values= condition_df.meter_reading.clip( upper=90, axis=0)\n",
    "clipped_idx= condition_df.index\n",
    "train_df.loc[clipped_idx,'meter_reading']= clipped_values\n",
    "\n",
    "condition_df= train_df[(train_df['site_id'] == 10) & (train_df.primary_use==1) ]\n",
    "clipped_values= condition_df.meter_reading.clip( upper=125, axis=0)\n",
    "clipped_idx= condition_df.index\n",
    "train_df.loc[clipped_idx,'meter_reading']= clipped_values\n",
    "\n",
    "condition_df= train_df[(train_df['site_id'] == 10) & (train_df.meter==0)]\n",
    "clipped_values= condition_df.meter_reading.clip( upper=80, axis=0)\n",
    "clipped_idx= condition_df.index\n",
    "train_df.loc[clipped_idx,'meter_reading']= clipped_values"
   ]
  },
  {
   "cell_type": "markdown",
   "metadata": {
    "collapsed": false
   },
   "source": [
    "### Visualizing after clipping"
   ]
  },
  {
   "cell_type": "code",
   "execution_count": null,
   "metadata": {
    "collapsed": false,
    "pycharm": {
     "name": "#%%\n"
    }
   },
   "outputs": [],
   "source": [
    "fig, axes = plt.subplots(2,1,figsize=(14, 6), dpi=100)\n",
    "for i in list( train_df[(train_df['site_id'] == 10)]['meter'].unique() ) :\n",
    "    train_df[(train_df['site_id'] == 10) & (train_df['meter'] == i)][['timestamp', 'meter_reading']].set_index('timestamp').resample('H').mean()['meter_reading'].plot(ax=axes[i], alpha=0.8, label='By hour', color='tab:blue').set_ylabel('Mean meter reading', fontsize=13);\n",
    "    axes[i].set_title('Meter: ' + str(i), fontsize=13);\n",
    "    plt.subplots_adjust(hspace=0.6)\n",
    "\n",
    "cond= train_df[(train_df['site_id'] == 10)]\n",
    "fig, axes = plt.subplots(len(cond['primary_use'].unique()),\n",
    "                         1,figsize=(14, 18), dpi=100)\n",
    "counter_var=0\n",
    "for i in list( cond['primary_use'].unique() ) :\n",
    "    train_df[ (train_df['site_id'] == 10) & (train_df['primary_use'] == i) ] [['timestamp', 'meter_reading']].set_index('timestamp').resample('H').mean()['meter_reading'].plot(ax=axes[counter_var], alpha=0.8, label='By hour', color='tab:blue').set_ylabel('Mean meter reading', fontsize=13)\n",
    "    axes[counter_var].set_title('primary_use: ' + str(i), fontsize=13);\n",
    "    counter_var+=1\n",
    "    plt.subplots_adjust(hspace=0.6)"
   ]
  },
  {
   "cell_type": "markdown",
   "metadata": {
    "collapsed": false
   },
   "source": [
    "## Checking site 11"
   ]
  },
  {
   "cell_type": "code",
   "execution_count": null,
   "metadata": {
    "collapsed": false,
    "pycharm": {
     "name": "#%%\n"
    }
   },
   "outputs": [],
   "source": [
    "fig, axes = plt.subplots(2,1,figsize=(14, 6), dpi=100)\n",
    "for i in list( train_df[(train_df['site_id'] == 11)]['meter'].unique() ) :\n",
    "    train_df[(train_df['site_id'] == 11) & (train_df['meter'] == i)][['timestamp', 'meter_reading']].set_index('timestamp').resample('H').mean()['meter_reading'].plot(ax=axes[i], alpha=0.8, label='By hour', color='tab:blue').set_ylabel('Mean meter reading', fontsize=13);\n",
    "    axes[i].set_title('Meter: ' + str(i), fontsize=13);\n",
    "    plt.subplots_adjust(hspace=0.6)\n",
    "\n",
    "cond= train_df[(train_df['site_id'] == 11)]\n",
    "fig, axes = plt.subplots(len(cond['primary_use'].unique()),\n",
    "                         1,figsize=(14, 3), dpi=100)\n",
    "counter_var=0\n",
    "for i in list( cond['primary_use'].unique() ) :\n",
    "    train_df[ (train_df['site_id'] == 11) & (train_df['primary_use'] == i) ] [['timestamp', 'meter_reading']].set_index('timestamp').resample('H').mean()['meter_reading'].plot(ax=axes, alpha=0.8, label='By hour', color='tab:blue').set_ylabel('Mean meter reading', fontsize=13)\n",
    "    axes.set_title('primary_use: ' + str(i), fontsize=13);\n",
    "    counter_var+=1\n",
    "    plt.subplots_adjust(hspace=0.6)"
   ]
  },
  {
   "cell_type": "markdown",
   "metadata": {
    "collapsed": false
   },
   "source": [
    "### Dropping meter 1 as the missing data is skewing our graph"
   ]
  },
  {
   "cell_type": "code",
   "execution_count": null,
   "metadata": {
    "collapsed": false,
    "pycharm": {
     "name": "#%%\n"
    }
   },
   "outputs": [],
   "source": [
    "cond= train_df[(train_df['site_id'] == 11) & (train_df.meter==1)]\n",
    "train_df.drop(index=cond.index, inplace=True)"
   ]
  },
  {
   "cell_type": "markdown",
   "metadata": {
    "collapsed": false
   },
   "source": [
    "### Visualizing after removing data"
   ]
  },
  {
   "cell_type": "code",
   "execution_count": null,
   "metadata": {
    "collapsed": false,
    "pycharm": {
     "name": "#%%\n"
    }
   },
   "outputs": [],
   "source": [
    "fig, axes = plt.subplots(1,1,figsize=(14, 6), dpi=100)\n",
    "for i in list( train_df[(train_df['site_id'] == 11)]['meter'].unique() ) :\n",
    "    train_df[(train_df['site_id'] == 11) & (train_df['meter'] == i)][['timestamp', 'meter_reading']].set_index('timestamp').resample('H').mean()['meter_reading'].plot(ax=axes, alpha=0.8, label='By hour', color='tab:blue').set_ylabel('Mean meter reading', fontsize=13);\n",
    "    axes.set_title('Meter: ' + str(i), fontsize=13);\n",
    "    plt.subplots_adjust(hspace=0.6)\n",
    "\n",
    "cond= train_df[(train_df['site_id'] == 11)]\n",
    "fig, axes = plt.subplots(len(cond['primary_use'].unique()),\n",
    "                         1,figsize=(14, 3), dpi=100)\n",
    "counter_var=0\n",
    "for i in list( cond['primary_use'].unique() ) :\n",
    "    train_df[ (train_df['site_id'] == 11) & (train_df['primary_use'] == i) ] [['timestamp', 'meter_reading']].set_index('timestamp').resample('H').mean()['meter_reading'].plot(ax=axes, alpha=0.8, label='By hour', color='tab:blue').set_ylabel('Mean meter reading', fontsize=13)\n",
    "    axes.set_title('primary_use: ' + str(i), fontsize=13);\n",
    "    counter_var+=1\n",
    "    plt.subplots_adjust(hspace=0.6)"
   ]
  },
  {
   "cell_type": "markdown",
   "metadata": {
    "collapsed": false
   },
   "source": [
    "## Lastly Checking site 14"
   ]
  },
  {
   "cell_type": "code",
   "execution_count": null,
   "metadata": {
    "collapsed": false,
    "pycharm": {
     "name": "#%%\n"
    }
   },
   "outputs": [],
   "source": [
    "fig, axes = plt.subplots(2,1,figsize=(14, 6), dpi=100)\n",
    "for i in list( train_df[(train_df['site_id'] == 10)]['meter'].unique() ) :\n",
    "    train_df[(train_df['site_id'] == 14) & (train_df['meter'] == i)][['timestamp', 'meter_reading']].set_index('timestamp').resample('H').mean()['meter_reading'].plot(ax=axes[i], alpha=0.8, label='By hour', color='tab:blue').set_ylabel('Mean meter reading', fontsize=13);\n",
    "    axes[i].set_title('Meter: ' + str(i), fontsize=13);\n",
    "    plt.subplots_adjust(hspace=0.6)\n",
    "\n",
    "cond= train_df[(train_df['site_id'] == 14)]\n",
    "fig, axes = plt.subplots(len(cond['primary_use'].unique()),\n",
    "                         1,figsize=(14, 18), dpi=100)\n",
    "counter_var=0\n",
    "for i in list( cond['primary_use'].unique() ) :\n",
    "    train_df[ (train_df['site_id'] == 14) & (train_df['primary_use'] == i) ] [['timestamp', 'meter_reading']].set_index('timestamp').resample('H').mean()['meter_reading'].plot(ax=axes[counter_var], alpha=0.8, label='By hour', color='tab:blue').set_ylabel('Mean meter reading', fontsize=13)\n",
    "    axes[counter_var].set_title('primary_use: ' + str(i), fontsize=13);\n",
    "    counter_var+=1\n",
    "    plt.subplots_adjust(hspace=0.6)"
   ]
  },
  {
   "cell_type": "markdown",
   "metadata": {
    "collapsed": false
   },
   "source": [
    "### as we can see meter 1 is so huge that it creates an unbalanced data, so we will try visualizing without it\n"
   ]
  },
  {
   "cell_type": "code",
   "execution_count": null,
   "metadata": {
    "collapsed": false,
    "pycharm": {
     "name": "#%%\n"
    }
   },
   "outputs": [],
   "source": [
    "# visualizing without meter 1\n",
    "\n",
    "fig, axes = plt.subplots(2,1,figsize=(14, 6), dpi=100)\n",
    "for i in list( train_df[(train_df['site_id'] == 10)]['meter'].unique() ) :\n",
    "    train_df[(train_df['site_id'] == 14) & (train_df['meter'] == i)][['timestamp', 'meter_reading']].set_index('timestamp').resample('H').mean()['meter_reading'].plot(ax=axes[i], alpha=0.8, label='By hour', color='tab:blue').set_ylabel('Mean meter reading', fontsize=13);\n",
    "    axes[i].set_title('Meter: ' + str(i), fontsize=13);\n",
    "    plt.subplots_adjust(hspace=0.6)\n",
    "\n",
    "cond= train_df[(train_df['site_id'] == 14)]\n",
    "fig, axes = plt.subplots(len(cond['primary_use'].unique()),\n",
    "                         1,figsize=(14, 18), dpi=100)\n",
    "counter_var=0\n",
    "for i in list( cond['primary_use'].unique() ) :\n",
    "    train_df[ (train_df['site_id'] == 14) & (train_df['primary_use'] == i) & (train_df.meter ==0) ] [['timestamp', 'meter_reading']].set_index('timestamp').resample('H').mean()['meter_reading'].plot(ax=axes[counter_var], alpha=0.8, label='By hour', color='tab:blue').set_ylabel('Mean meter reading', fontsize=13)\n",
    "    axes[counter_var].set_title('primary_use: ' + str(i), fontsize=13);\n",
    "    counter_var+=1\n",
    "    plt.subplots_adjust(hspace=0.6)"
   ]
  },
  {
   "cell_type": "markdown",
   "metadata": {
    "collapsed": false
   },
   "source": [
    "### we clearly see that meter 1 has some problems with it, so we will drop it and clip some outliers"
   ]
  },
  {
   "cell_type": "code",
   "execution_count": null,
   "metadata": {
    "collapsed": false,
    "pycharm": {
     "name": "#%%\n"
    }
   },
   "outputs": [],
   "source": [
    "condition_df= train_df[(train_df['site_id'] == 14)& (train_df.primary_use==1) ]\n",
    "clipped_values= condition_df.meter_reading.clip( upper=230, axis=0)\n",
    "clipped_idx= condition_df.index\n",
    "train_df.loc[clipped_idx,'meter_reading']= clipped_values\n",
    "\n",
    "# dropping primary use 7, 13 as it's range is just so suspecious\n",
    "condition= train_df[(train_df['site_id'] == 14) & (train_df.meter==1) ]\n",
    "train_df.drop(index=condition.index , inplace=True)\n",
    "\n",
    "condition_df= train_df[(train_df['site_id'] == 14) & (train_df.primary_use==2)]\n",
    "clipped_values= condition_df.meter_reading.clip( upper=250, axis=0)\n",
    "clipped_idx= condition_df.index\n",
    "train_df.loc[clipped_idx,'meter_reading']= clipped_values"
   ]
  },
  {
   "cell_type": "markdown",
   "metadata": {
    "collapsed": false
   },
   "source": [
    "### visualizing after removing outliers"
   ]
  },
  {
   "cell_type": "code",
   "execution_count": null,
   "metadata": {
    "collapsed": false,
    "pycharm": {
     "name": "#%%\n"
    }
   },
   "outputs": [],
   "source": [
    "# visualizing without meter 1\n",
    "\n",
    "fig, axes = plt.subplots(1,1,figsize=(14, 3), dpi=100)\n",
    "for i in list( train_df[(train_df['site_id'] == 10)]['meter'].unique() ) :\n",
    "    train_df[(train_df['site_id'] == 14)][['timestamp', 'meter_reading']].set_index('timestamp').resample('H').mean()['meter_reading'].plot(ax=axes, alpha=0.8, label='By hour', color='tab:blue').set_ylabel('Mean meter reading', fontsize=13);\n",
    "    axes.set_title('Meter: ' + str(i), fontsize=13);\n",
    "    plt.subplots_adjust(hspace=0.6)\n",
    "\n",
    "cond= train_df[(train_df['site_id'] == 14)]\n",
    "fig, axes = plt.subplots(len(cond['primary_use'].unique()),\n",
    "                         1,figsize=(14, 18), dpi=100)\n",
    "counter_var=0\n",
    "for i in list( cond['primary_use'].unique() ) :\n",
    "    train_df[ (train_df['site_id'] == 14) & (train_df['primary_use'] == i) ] [['timestamp', 'meter_reading']].set_index('timestamp').resample('H').mean()['meter_reading'].plot(ax=axes[counter_var], alpha=0.8, label='By hour', color='tab:blue').set_ylabel('Mean meter reading', fontsize=13)\n",
    "    axes[counter_var].set_title('primary_use: ' + str(i), fontsize=13);\n",
    "    counter_var+=1\n",
    "    plt.subplots_adjust(hspace=0.6)"
   ]
  },
  {
   "cell_type": "markdown",
   "metadata": {
    "collapsed": false
   },
   "source": [
    "## Revisualizing all sites after preprocessing\n"
   ]
  },
  {
   "cell_type": "code",
   "execution_count": null,
   "metadata": {
    "collapsed": false,
    "pycharm": {
     "name": "#%%\n"
    }
   },
   "outputs": [],
   "source": [
    "fig, axes = plt.subplots(16,figsize=(15, 25), dpi=100)\n",
    "for i in range(train_df['site_id'].nunique()):\n",
    "    try:\n",
    "        train_df[train_df['site_id'] == i][['timestamp', 'meter_reading']].set_index('timestamp').resample('H').mean().plot(ax=axes[i], alpha=0.8, label='By hour')\n",
    "        axes[i].set_title('site_id {}'.format(i), fontsize=13);\n",
    "        plt.subplots_adjust(hspace=0.6)\n",
    "    except: pass"
   ]
  },
  {
   "cell_type": "markdown",
   "metadata": {
    "collapsed": false
   },
   "source": [
    "# Saving the data"
   ]
  },
  {
   "cell_type": "code",
   "execution_count": null,
   "metadata": {
    "collapsed": false,
    "pycharm": {
     "name": "#%%\n"
    }
   },
   "outputs": [],
   "source": [
    "#train_df.to_csv('content/preprocessed_train.csv')"
   ]
  },
  {
   "cell_type": "code",
   "execution_count": null,
   "metadata": {
    "collapsed": false,
    "pycharm": {
     "name": "#%%\n"
    }
   },
   "outputs": [],
   "source": [
    "train_df.query('area==1 & primary_use==0 & meter==0').building_id.value_counts()"
   ]
  },
  {
   "cell_type": "code",
   "execution_count": null,
   "metadata": {
    "collapsed": false,
    "pycharm": {
     "name": "#%%\n"
    }
   },
   "outputs": [],
   "source": [
    "data= train_df.query('area==1 & primary_use==0 & meter==0')"
   ]
  },
  {
   "cell_type": "code",
   "execution_count": null,
   "metadata": {
    "collapsed": false,
    "pycharm": {
     "name": "#%%\n"
    }
   },
   "outputs": [],
   "source": [
    "fig, axes = plt.subplots(39,figsize=(20, 50), dpi=100)\n",
    "for ax,i in  enumerate(data['building_id'].unique()):\n",
    "    try:\n",
    "        data[data['building_id'] == i][['timestamp', 'meter_reading']].set_index('timestamp').resample('H').mean().plot(ax=axes[ax], alpha=0.8, label='By hour')\n",
    "        axes[ax].set_title('building_id {}'.format(i), fontsize=13);\n",
    "        plt.subplots_adjust(hspace=0.6)\n",
    "    except: pass"
   ]
  },
  {
   "cell_type": "code",
   "execution_count": null,
   "metadata": {
    "collapsed": false,
    "pycharm": {
     "name": "#%%\n"
    }
   },
   "outputs": [],
   "source": []
  }
 ],
 "metadata": {
  "kernelspec": {
   "display_name": "Python 3",
   "language": "python",
   "name": "python3"
  },
  "language_info": {
   "codemirror_mode": {
    "name": "ipython",
    "version": 3
   },
   "file_extension": ".py",
   "mimetype": "text/x-python",
   "name": "python",
   "nbconvert_exporter": "python",
   "pygments_lexer": "ipython3",
   "version": "3.11.4"
  }
 },
 "nbformat": 4,
 "nbformat_minor": 0
}
